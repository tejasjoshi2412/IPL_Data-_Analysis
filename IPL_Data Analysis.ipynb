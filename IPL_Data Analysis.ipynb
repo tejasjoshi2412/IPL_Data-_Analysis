{
 "cells": [
  {
   "cell_type": "markdown",
   "id": "028709ab",
   "metadata": {},
   "source": [
    "# Data Analysis on IPL Dataset 2008-2020"
   ]
  },
  {
   "cell_type": "markdown",
   "id": "d2e7bfed",
   "metadata": {},
   "source": [
    "ID - Match ID as per ESPN CricInfo\n",
    "\n",
    "City - Cityof the Venue\n",
    "\n",
    "Date - Date\n",
    "\n",
    "player_of_match - Man of the Match\n",
    "\n",
    "Venue - Stadium\n",
    "\n",
    "neutral_venue - Neither Home nor Away\n",
    "\n",
    "team1 = Competeing team 1\n",
    "\n",
    "team2 = Competeing team 2\n",
    "\n",
    "toss_winner - Winner of the Coin Toss\n",
    "\n",
    "toss_decision - Decision to either Bat or Field opted by the Winner of the Coin Toss\n",
    "\n",
    "winner - Match Winng Team\n",
    "\n",
    "result - Won by runs/wicket\n",
    "\n",
    "result_margin - Winning Margin\n",
    "\n",
    "Eliminator - Kind of a Game normal or eliminator\n",
    "\n",
    "method - DLS or Normal \n",
    "\n",
    "umpire1 - Match Officiating Umpire 1\n",
    "\n",
    "umpire1 -Match officiating Umpire 2"
   ]
  },
  {
   "cell_type": "markdown",
   "id": "9fca9218",
   "metadata": {},
   "source": [
    "### Importing necessary Libraries"
   ]
  },
  {
   "cell_type": "code",
   "execution_count": 1,
   "id": "06c736a2",
   "metadata": {},
   "outputs": [],
   "source": [
    "import pandas as pd\n",
    "import numpy as np\n",
    "import matplotlib.pyplot as plt\n",
    "%matplotlib inline\n",
    "import seaborn as sns\n",
    "from openpyxl import Workbook\n",
    "import chart_studio as py\n",
    "# from plotly.offline import download_plotlyjs,iplot,plot,init_notebook_mode"
   ]
  },
  {
   "cell_type": "code",
   "execution_count": 2,
   "id": "7cf97ae6",
   "metadata": {},
   "outputs": [
    {
     "data": {
      "text/html": [
       "        <script type=\"text/javascript\">\n",
       "        window.PlotlyConfig = {MathJaxConfig: 'local'};\n",
       "        if (window.MathJax) {MathJax.Hub.Config({SVG: {font: \"STIX-Web\"}});}\n",
       "        if (typeof require !== 'undefined') {\n",
       "        require.undef(\"plotly\");\n",
       "        requirejs.config({\n",
       "            paths: {\n",
       "                'plotly': ['https://cdn.plot.ly/plotly-latest.min']\n",
       "            }\n",
       "        });\n",
       "        require(['plotly'], function(Plotly) {\n",
       "            window._Plotly = Plotly;\n",
       "        });\n",
       "        }\n",
       "        </script>\n",
       "        "
      ]
     },
     "metadata": {},
     "output_type": "display_data"
    },
    {
     "data": {
      "text/html": [
       "        <script type=\"text/javascript\">\n",
       "        window.PlotlyConfig = {MathJaxConfig: 'local'};\n",
       "        if (window.MathJax) {MathJax.Hub.Config({SVG: {font: \"STIX-Web\"}});}\n",
       "        if (typeof require !== 'undefined') {\n",
       "        require.undef(\"plotly\");\n",
       "        requirejs.config({\n",
       "            paths: {\n",
       "                'plotly': ['https://cdn.plot.ly/plotly-latest.min']\n",
       "            }\n",
       "        });\n",
       "        require(['plotly'], function(Plotly) {\n",
       "            window._Plotly = Plotly;\n",
       "        });\n",
       "        }\n",
       "        </script>\n",
       "        "
      ]
     },
     "metadata": {},
     "output_type": "display_data"
    }
   ],
   "source": [
    "import cufflinks as cf\n",
    "from plotly.offline import download_plotlyjs,iplot,plot,init_notebook_mode\n",
    "init_notebook_mode(connected = True)\n",
    "cf.go_offline()"
   ]
  },
  {
   "cell_type": "code",
   "execution_count": 3,
   "id": "3ef3ec58",
   "metadata": {},
   "outputs": [
    {
     "data": {
      "text/html": [
       "<div>\n",
       "<style scoped>\n",
       "    .dataframe tbody tr th:only-of-type {\n",
       "        vertical-align: middle;\n",
       "    }\n",
       "\n",
       "    .dataframe tbody tr th {\n",
       "        vertical-align: top;\n",
       "    }\n",
       "\n",
       "    .dataframe thead th {\n",
       "        text-align: right;\n",
       "    }\n",
       "</style>\n",
       "<table border=\"1\" class=\"dataframe\">\n",
       "  <thead>\n",
       "    <tr style=\"text-align: right;\">\n",
       "      <th></th>\n",
       "      <th>id</th>\n",
       "      <th>city</th>\n",
       "      <th>date</th>\n",
       "      <th>player_of_match</th>\n",
       "      <th>venue</th>\n",
       "      <th>neutral_venue</th>\n",
       "      <th>team1</th>\n",
       "      <th>team2</th>\n",
       "      <th>toss_winner</th>\n",
       "      <th>toss_decision</th>\n",
       "      <th>winner</th>\n",
       "      <th>result</th>\n",
       "      <th>result_margin</th>\n",
       "      <th>eliminator</th>\n",
       "      <th>method</th>\n",
       "      <th>umpire1</th>\n",
       "      <th>umpire2</th>\n",
       "    </tr>\n",
       "  </thead>\n",
       "  <tbody>\n",
       "    <tr>\n",
       "      <th>0</th>\n",
       "      <td>335982</td>\n",
       "      <td>Bangalore</td>\n",
       "      <td>2008-04-18</td>\n",
       "      <td>BB McCullum</td>\n",
       "      <td>M Chinnaswamy Stadium</td>\n",
       "      <td>0</td>\n",
       "      <td>Royal Challengers Bangalore</td>\n",
       "      <td>Kolkata Knight Riders</td>\n",
       "      <td>Royal Challengers Bangalore</td>\n",
       "      <td>field</td>\n",
       "      <td>Kolkata Knight Riders</td>\n",
       "      <td>runs</td>\n",
       "      <td>140.0</td>\n",
       "      <td>N</td>\n",
       "      <td>NaN</td>\n",
       "      <td>Asad Rauf</td>\n",
       "      <td>RE Koertzen</td>\n",
       "    </tr>\n",
       "    <tr>\n",
       "      <th>1</th>\n",
       "      <td>335983</td>\n",
       "      <td>Chandigarh</td>\n",
       "      <td>2008-04-19</td>\n",
       "      <td>MEK Hussey</td>\n",
       "      <td>Punjab Cricket Association Stadium, Mohali</td>\n",
       "      <td>0</td>\n",
       "      <td>Kings XI Punjab</td>\n",
       "      <td>Chennai Super Kings</td>\n",
       "      <td>Chennai Super Kings</td>\n",
       "      <td>bat</td>\n",
       "      <td>Chennai Super Kings</td>\n",
       "      <td>runs</td>\n",
       "      <td>33.0</td>\n",
       "      <td>N</td>\n",
       "      <td>NaN</td>\n",
       "      <td>MR Benson</td>\n",
       "      <td>SL Shastri</td>\n",
       "    </tr>\n",
       "    <tr>\n",
       "      <th>2</th>\n",
       "      <td>335984</td>\n",
       "      <td>Delhi</td>\n",
       "      <td>2008-04-19</td>\n",
       "      <td>MF Maharoof</td>\n",
       "      <td>Feroz Shah Kotla</td>\n",
       "      <td>0</td>\n",
       "      <td>Delhi Daredevils</td>\n",
       "      <td>Rajasthan Royals</td>\n",
       "      <td>Rajasthan Royals</td>\n",
       "      <td>bat</td>\n",
       "      <td>Delhi Daredevils</td>\n",
       "      <td>wickets</td>\n",
       "      <td>9.0</td>\n",
       "      <td>N</td>\n",
       "      <td>NaN</td>\n",
       "      <td>Aleem Dar</td>\n",
       "      <td>GA Pratapkumar</td>\n",
       "    </tr>\n",
       "    <tr>\n",
       "      <th>3</th>\n",
       "      <td>335985</td>\n",
       "      <td>Mumbai</td>\n",
       "      <td>2008-04-20</td>\n",
       "      <td>MV Boucher</td>\n",
       "      <td>Wankhede Stadium</td>\n",
       "      <td>0</td>\n",
       "      <td>Mumbai Indians</td>\n",
       "      <td>Royal Challengers Bangalore</td>\n",
       "      <td>Mumbai Indians</td>\n",
       "      <td>bat</td>\n",
       "      <td>Royal Challengers Bangalore</td>\n",
       "      <td>wickets</td>\n",
       "      <td>5.0</td>\n",
       "      <td>N</td>\n",
       "      <td>NaN</td>\n",
       "      <td>SJ Davis</td>\n",
       "      <td>DJ Harper</td>\n",
       "    </tr>\n",
       "    <tr>\n",
       "      <th>4</th>\n",
       "      <td>335986</td>\n",
       "      <td>Kolkata</td>\n",
       "      <td>2008-04-20</td>\n",
       "      <td>DJ Hussey</td>\n",
       "      <td>Eden Gardens</td>\n",
       "      <td>0</td>\n",
       "      <td>Kolkata Knight Riders</td>\n",
       "      <td>Deccan Chargers</td>\n",
       "      <td>Deccan Chargers</td>\n",
       "      <td>bat</td>\n",
       "      <td>Kolkata Knight Riders</td>\n",
       "      <td>wickets</td>\n",
       "      <td>5.0</td>\n",
       "      <td>N</td>\n",
       "      <td>NaN</td>\n",
       "      <td>BF Bowden</td>\n",
       "      <td>K Hariharan</td>\n",
       "    </tr>\n",
       "    <tr>\n",
       "      <th>5</th>\n",
       "      <td>335987</td>\n",
       "      <td>Jaipur</td>\n",
       "      <td>2008-04-21</td>\n",
       "      <td>SR Watson</td>\n",
       "      <td>Sawai Mansingh Stadium</td>\n",
       "      <td>0</td>\n",
       "      <td>Rajasthan Royals</td>\n",
       "      <td>Kings XI Punjab</td>\n",
       "      <td>Kings XI Punjab</td>\n",
       "      <td>bat</td>\n",
       "      <td>Rajasthan Royals</td>\n",
       "      <td>wickets</td>\n",
       "      <td>6.0</td>\n",
       "      <td>N</td>\n",
       "      <td>NaN</td>\n",
       "      <td>Aleem Dar</td>\n",
       "      <td>RB Tiffin</td>\n",
       "    </tr>\n",
       "    <tr>\n",
       "      <th>6</th>\n",
       "      <td>335988</td>\n",
       "      <td>Hyderabad</td>\n",
       "      <td>2008-04-22</td>\n",
       "      <td>V Sehwag</td>\n",
       "      <td>Rajiv Gandhi International Stadium, Uppal</td>\n",
       "      <td>0</td>\n",
       "      <td>Deccan Chargers</td>\n",
       "      <td>Delhi Daredevils</td>\n",
       "      <td>Deccan Chargers</td>\n",
       "      <td>bat</td>\n",
       "      <td>Delhi Daredevils</td>\n",
       "      <td>wickets</td>\n",
       "      <td>9.0</td>\n",
       "      <td>N</td>\n",
       "      <td>NaN</td>\n",
       "      <td>IL Howell</td>\n",
       "      <td>AM Saheba</td>\n",
       "    </tr>\n",
       "    <tr>\n",
       "      <th>7</th>\n",
       "      <td>335989</td>\n",
       "      <td>Chennai</td>\n",
       "      <td>2008-04-23</td>\n",
       "      <td>ML Hayden</td>\n",
       "      <td>MA Chidambaram Stadium, Chepauk</td>\n",
       "      <td>0</td>\n",
       "      <td>Chennai Super Kings</td>\n",
       "      <td>Mumbai Indians</td>\n",
       "      <td>Mumbai Indians</td>\n",
       "      <td>field</td>\n",
       "      <td>Chennai Super Kings</td>\n",
       "      <td>runs</td>\n",
       "      <td>6.0</td>\n",
       "      <td>N</td>\n",
       "      <td>NaN</td>\n",
       "      <td>DJ Harper</td>\n",
       "      <td>GA Pratapkumar</td>\n",
       "    </tr>\n",
       "    <tr>\n",
       "      <th>8</th>\n",
       "      <td>335990</td>\n",
       "      <td>Hyderabad</td>\n",
       "      <td>2008-04-24</td>\n",
       "      <td>YK Pathan</td>\n",
       "      <td>Rajiv Gandhi International Stadium, Uppal</td>\n",
       "      <td>0</td>\n",
       "      <td>Deccan Chargers</td>\n",
       "      <td>Rajasthan Royals</td>\n",
       "      <td>Rajasthan Royals</td>\n",
       "      <td>field</td>\n",
       "      <td>Rajasthan Royals</td>\n",
       "      <td>wickets</td>\n",
       "      <td>3.0</td>\n",
       "      <td>N</td>\n",
       "      <td>NaN</td>\n",
       "      <td>Asad Rauf</td>\n",
       "      <td>MR Benson</td>\n",
       "    </tr>\n",
       "    <tr>\n",
       "      <th>9</th>\n",
       "      <td>335991</td>\n",
       "      <td>Chandigarh</td>\n",
       "      <td>2008-04-25</td>\n",
       "      <td>KC Sangakkara</td>\n",
       "      <td>Punjab Cricket Association Stadium, Mohali</td>\n",
       "      <td>0</td>\n",
       "      <td>Kings XI Punjab</td>\n",
       "      <td>Mumbai Indians</td>\n",
       "      <td>Mumbai Indians</td>\n",
       "      <td>field</td>\n",
       "      <td>Kings XI Punjab</td>\n",
       "      <td>runs</td>\n",
       "      <td>66.0</td>\n",
       "      <td>N</td>\n",
       "      <td>NaN</td>\n",
       "      <td>Aleem Dar</td>\n",
       "      <td>AM Saheba</td>\n",
       "    </tr>\n",
       "  </tbody>\n",
       "</table>\n",
       "</div>"
      ],
      "text/plain": [
       "       id        city        date player_of_match  \\\n",
       "0  335982   Bangalore  2008-04-18     BB McCullum   \n",
       "1  335983  Chandigarh  2008-04-19      MEK Hussey   \n",
       "2  335984       Delhi  2008-04-19     MF Maharoof   \n",
       "3  335985      Mumbai  2008-04-20      MV Boucher   \n",
       "4  335986     Kolkata  2008-04-20       DJ Hussey   \n",
       "5  335987      Jaipur  2008-04-21       SR Watson   \n",
       "6  335988   Hyderabad  2008-04-22        V Sehwag   \n",
       "7  335989     Chennai  2008-04-23       ML Hayden   \n",
       "8  335990   Hyderabad  2008-04-24       YK Pathan   \n",
       "9  335991  Chandigarh  2008-04-25   KC Sangakkara   \n",
       "\n",
       "                                        venue  neutral_venue  \\\n",
       "0                       M Chinnaswamy Stadium              0   \n",
       "1  Punjab Cricket Association Stadium, Mohali              0   \n",
       "2                            Feroz Shah Kotla              0   \n",
       "3                            Wankhede Stadium              0   \n",
       "4                                Eden Gardens              0   \n",
       "5                      Sawai Mansingh Stadium              0   \n",
       "6   Rajiv Gandhi International Stadium, Uppal              0   \n",
       "7             MA Chidambaram Stadium, Chepauk              0   \n",
       "8   Rajiv Gandhi International Stadium, Uppal              0   \n",
       "9  Punjab Cricket Association Stadium, Mohali              0   \n",
       "\n",
       "                         team1                        team2  \\\n",
       "0  Royal Challengers Bangalore        Kolkata Knight Riders   \n",
       "1              Kings XI Punjab          Chennai Super Kings   \n",
       "2             Delhi Daredevils             Rajasthan Royals   \n",
       "3               Mumbai Indians  Royal Challengers Bangalore   \n",
       "4        Kolkata Knight Riders              Deccan Chargers   \n",
       "5             Rajasthan Royals              Kings XI Punjab   \n",
       "6              Deccan Chargers             Delhi Daredevils   \n",
       "7          Chennai Super Kings               Mumbai Indians   \n",
       "8              Deccan Chargers             Rajasthan Royals   \n",
       "9              Kings XI Punjab               Mumbai Indians   \n",
       "\n",
       "                   toss_winner toss_decision                       winner  \\\n",
       "0  Royal Challengers Bangalore         field        Kolkata Knight Riders   \n",
       "1          Chennai Super Kings           bat          Chennai Super Kings   \n",
       "2             Rajasthan Royals           bat             Delhi Daredevils   \n",
       "3               Mumbai Indians           bat  Royal Challengers Bangalore   \n",
       "4              Deccan Chargers           bat        Kolkata Knight Riders   \n",
       "5              Kings XI Punjab           bat             Rajasthan Royals   \n",
       "6              Deccan Chargers           bat             Delhi Daredevils   \n",
       "7               Mumbai Indians         field          Chennai Super Kings   \n",
       "8             Rajasthan Royals         field             Rajasthan Royals   \n",
       "9               Mumbai Indians         field              Kings XI Punjab   \n",
       "\n",
       "    result  result_margin eliminator method    umpire1         umpire2  \n",
       "0     runs          140.0          N    NaN  Asad Rauf     RE Koertzen  \n",
       "1     runs           33.0          N    NaN  MR Benson      SL Shastri  \n",
       "2  wickets            9.0          N    NaN  Aleem Dar  GA Pratapkumar  \n",
       "3  wickets            5.0          N    NaN   SJ Davis       DJ Harper  \n",
       "4  wickets            5.0          N    NaN  BF Bowden     K Hariharan  \n",
       "5  wickets            6.0          N    NaN  Aleem Dar       RB Tiffin  \n",
       "6  wickets            9.0          N    NaN  IL Howell       AM Saheba  \n",
       "7     runs            6.0          N    NaN  DJ Harper  GA Pratapkumar  \n",
       "8  wickets            3.0          N    NaN  Asad Rauf       MR Benson  \n",
       "9     runs           66.0          N    NaN  Aleem Dar       AM Saheba  "
      ]
     },
     "execution_count": 3,
     "metadata": {},
     "output_type": "execute_result"
    }
   ],
   "source": [
    "df = pd.read_csv('IPL Matches 2008-2020.csv')\n",
    "df.head(10)"
   ]
  },
  {
   "cell_type": "code",
   "execution_count": 4,
   "id": "ebbe4ea3",
   "metadata": {},
   "outputs": [
    {
     "data": {
      "text/html": [
       "<div>\n",
       "<style scoped>\n",
       "    .dataframe tbody tr th:only-of-type {\n",
       "        vertical-align: middle;\n",
       "    }\n",
       "\n",
       "    .dataframe tbody tr th {\n",
       "        vertical-align: top;\n",
       "    }\n",
       "\n",
       "    .dataframe thead th {\n",
       "        text-align: right;\n",
       "    }\n",
       "</style>\n",
       "<table border=\"1\" class=\"dataframe\">\n",
       "  <thead>\n",
       "    <tr style=\"text-align: right;\">\n",
       "      <th></th>\n",
       "      <th>id</th>\n",
       "      <th>neutral_venue</th>\n",
       "      <th>result_margin</th>\n",
       "    </tr>\n",
       "  </thead>\n",
       "  <tbody>\n",
       "    <tr>\n",
       "      <th>count</th>\n",
       "      <td>8.160000e+02</td>\n",
       "      <td>816.000000</td>\n",
       "      <td>799.000000</td>\n",
       "    </tr>\n",
       "    <tr>\n",
       "      <th>mean</th>\n",
       "      <td>7.563496e+05</td>\n",
       "      <td>0.094363</td>\n",
       "      <td>17.321652</td>\n",
       "    </tr>\n",
       "    <tr>\n",
       "      <th>std</th>\n",
       "      <td>3.058943e+05</td>\n",
       "      <td>0.292512</td>\n",
       "      <td>22.068427</td>\n",
       "    </tr>\n",
       "    <tr>\n",
       "      <th>min</th>\n",
       "      <td>3.359820e+05</td>\n",
       "      <td>0.000000</td>\n",
       "      <td>1.000000</td>\n",
       "    </tr>\n",
       "    <tr>\n",
       "      <th>25%</th>\n",
       "      <td>5.012278e+05</td>\n",
       "      <td>0.000000</td>\n",
       "      <td>6.000000</td>\n",
       "    </tr>\n",
       "    <tr>\n",
       "      <th>50%</th>\n",
       "      <td>7.292980e+05</td>\n",
       "      <td>0.000000</td>\n",
       "      <td>8.000000</td>\n",
       "    </tr>\n",
       "    <tr>\n",
       "      <th>75%</th>\n",
       "      <td>1.082626e+06</td>\n",
       "      <td>0.000000</td>\n",
       "      <td>19.500000</td>\n",
       "    </tr>\n",
       "    <tr>\n",
       "      <th>max</th>\n",
       "      <td>1.237181e+06</td>\n",
       "      <td>1.000000</td>\n",
       "      <td>146.000000</td>\n",
       "    </tr>\n",
       "  </tbody>\n",
       "</table>\n",
       "</div>"
      ],
      "text/plain": [
       "                 id  neutral_venue  result_margin\n",
       "count  8.160000e+02     816.000000     799.000000\n",
       "mean   7.563496e+05       0.094363      17.321652\n",
       "std    3.058943e+05       0.292512      22.068427\n",
       "min    3.359820e+05       0.000000       1.000000\n",
       "25%    5.012278e+05       0.000000       6.000000\n",
       "50%    7.292980e+05       0.000000       8.000000\n",
       "75%    1.082626e+06       0.000000      19.500000\n",
       "max    1.237181e+06       1.000000     146.000000"
      ]
     },
     "execution_count": 4,
     "metadata": {},
     "output_type": "execute_result"
    }
   ],
   "source": [
    "df.describe()"
   ]
  },
  {
   "cell_type": "code",
   "execution_count": 5,
   "id": "75f1e95b",
   "metadata": {},
   "outputs": [
    {
     "name": "stdout",
     "output_type": "stream",
     "text": [
      "<class 'pandas.core.frame.DataFrame'>\n",
      "RangeIndex: 816 entries, 0 to 815\n",
      "Data columns (total 17 columns):\n",
      " #   Column           Non-Null Count  Dtype  \n",
      "---  ------           --------------  -----  \n",
      " 0   id               816 non-null    int64  \n",
      " 1   city             803 non-null    object \n",
      " 2   date             816 non-null    object \n",
      " 3   player_of_match  812 non-null    object \n",
      " 4   venue            816 non-null    object \n",
      " 5   neutral_venue    816 non-null    int64  \n",
      " 6   team1            816 non-null    object \n",
      " 7   team2            816 non-null    object \n",
      " 8   toss_winner      816 non-null    object \n",
      " 9   toss_decision    816 non-null    object \n",
      " 10  winner           812 non-null    object \n",
      " 11  result           812 non-null    object \n",
      " 12  result_margin    799 non-null    float64\n",
      " 13  eliminator       812 non-null    object \n",
      " 14  method           19 non-null     object \n",
      " 15  umpire1          816 non-null    object \n",
      " 16  umpire2          816 non-null    object \n",
      "dtypes: float64(1), int64(2), object(14)\n",
      "memory usage: 108.5+ KB\n"
     ]
    }
   ],
   "source": [
    "df.info()"
   ]
  },
  {
   "cell_type": "code",
   "execution_count": 6,
   "id": "d8fbcaee",
   "metadata": {},
   "outputs": [
    {
     "data": {
      "text/plain": [
       "id                   0\n",
       "city                13\n",
       "date                 0\n",
       "player_of_match      4\n",
       "venue                0\n",
       "neutral_venue        0\n",
       "team1                0\n",
       "team2                0\n",
       "toss_winner          0\n",
       "toss_decision        0\n",
       "winner               4\n",
       "result               4\n",
       "result_margin       17\n",
       "eliminator           4\n",
       "method             797\n",
       "umpire1              0\n",
       "umpire2              0\n",
       "dtype: int64"
      ]
     },
     "execution_count": 6,
     "metadata": {},
     "output_type": "execute_result"
    }
   ],
   "source": [
    "df.isnull().sum()"
   ]
  },
  {
   "cell_type": "markdown",
   "id": "e8919a9f",
   "metadata": {},
   "source": [
    "Here in the Dataset, we cannot identify the who is the winner of the match as the data is not available and as the result is not available as well then it takes us to a conclusion if at all the match was played completely and did it give out the result ? So we have no other choice but to drop those rows whereas, there is no way for us to know where the match was played if it was a home game or an away game or even if the game was at a neutral venue as the data is missing, the same goes for the result margin a these detials had to be recorded, so we have no other way but to dro those columns."
   ]
  },
  {
   "cell_type": "code",
   "execution_count": 7,
   "id": "84086da4",
   "metadata": {},
   "outputs": [
    {
     "data": {
      "text/html": [
       "<div>\n",
       "<style scoped>\n",
       "    .dataframe tbody tr th:only-of-type {\n",
       "        vertical-align: middle;\n",
       "    }\n",
       "\n",
       "    .dataframe tbody tr th {\n",
       "        vertical-align: top;\n",
       "    }\n",
       "\n",
       "    .dataframe thead th {\n",
       "        text-align: right;\n",
       "    }\n",
       "</style>\n",
       "<table border=\"1\" class=\"dataframe\">\n",
       "  <thead>\n",
       "    <tr style=\"text-align: right;\">\n",
       "      <th></th>\n",
       "      <th>id</th>\n",
       "      <th>city</th>\n",
       "      <th>date</th>\n",
       "      <th>player_of_match</th>\n",
       "      <th>venue</th>\n",
       "      <th>neutral_venue</th>\n",
       "      <th>team1</th>\n",
       "      <th>team2</th>\n",
       "      <th>toss_winner</th>\n",
       "      <th>toss_decision</th>\n",
       "      <th>winner</th>\n",
       "      <th>result</th>\n",
       "      <th>result_margin</th>\n",
       "      <th>eliminator</th>\n",
       "      <th>umpire1</th>\n",
       "      <th>umpire2</th>\n",
       "    </tr>\n",
       "  </thead>\n",
       "  <tbody>\n",
       "    <tr>\n",
       "      <th>0</th>\n",
       "      <td>335982</td>\n",
       "      <td>Bangalore</td>\n",
       "      <td>2008-04-18</td>\n",
       "      <td>BB McCullum</td>\n",
       "      <td>M Chinnaswamy Stadium</td>\n",
       "      <td>0</td>\n",
       "      <td>Royal Challengers Bangalore</td>\n",
       "      <td>Kolkata Knight Riders</td>\n",
       "      <td>Royal Challengers Bangalore</td>\n",
       "      <td>field</td>\n",
       "      <td>Kolkata Knight Riders</td>\n",
       "      <td>runs</td>\n",
       "      <td>140.0</td>\n",
       "      <td>N</td>\n",
       "      <td>Asad Rauf</td>\n",
       "      <td>RE Koertzen</td>\n",
       "    </tr>\n",
       "    <tr>\n",
       "      <th>1</th>\n",
       "      <td>335983</td>\n",
       "      <td>Chandigarh</td>\n",
       "      <td>2008-04-19</td>\n",
       "      <td>MEK Hussey</td>\n",
       "      <td>Punjab Cricket Association Stadium, Mohali</td>\n",
       "      <td>0</td>\n",
       "      <td>Kings XI Punjab</td>\n",
       "      <td>Chennai Super Kings</td>\n",
       "      <td>Chennai Super Kings</td>\n",
       "      <td>bat</td>\n",
       "      <td>Chennai Super Kings</td>\n",
       "      <td>runs</td>\n",
       "      <td>33.0</td>\n",
       "      <td>N</td>\n",
       "      <td>MR Benson</td>\n",
       "      <td>SL Shastri</td>\n",
       "    </tr>\n",
       "    <tr>\n",
       "      <th>2</th>\n",
       "      <td>335984</td>\n",
       "      <td>Delhi</td>\n",
       "      <td>2008-04-19</td>\n",
       "      <td>MF Maharoof</td>\n",
       "      <td>Feroz Shah Kotla</td>\n",
       "      <td>0</td>\n",
       "      <td>Delhi Daredevils</td>\n",
       "      <td>Rajasthan Royals</td>\n",
       "      <td>Rajasthan Royals</td>\n",
       "      <td>bat</td>\n",
       "      <td>Delhi Daredevils</td>\n",
       "      <td>wickets</td>\n",
       "      <td>9.0</td>\n",
       "      <td>N</td>\n",
       "      <td>Aleem Dar</td>\n",
       "      <td>GA Pratapkumar</td>\n",
       "    </tr>\n",
       "    <tr>\n",
       "      <th>3</th>\n",
       "      <td>335985</td>\n",
       "      <td>Mumbai</td>\n",
       "      <td>2008-04-20</td>\n",
       "      <td>MV Boucher</td>\n",
       "      <td>Wankhede Stadium</td>\n",
       "      <td>0</td>\n",
       "      <td>Mumbai Indians</td>\n",
       "      <td>Royal Challengers Bangalore</td>\n",
       "      <td>Mumbai Indians</td>\n",
       "      <td>bat</td>\n",
       "      <td>Royal Challengers Bangalore</td>\n",
       "      <td>wickets</td>\n",
       "      <td>5.0</td>\n",
       "      <td>N</td>\n",
       "      <td>SJ Davis</td>\n",
       "      <td>DJ Harper</td>\n",
       "    </tr>\n",
       "    <tr>\n",
       "      <th>4</th>\n",
       "      <td>335986</td>\n",
       "      <td>Kolkata</td>\n",
       "      <td>2008-04-20</td>\n",
       "      <td>DJ Hussey</td>\n",
       "      <td>Eden Gardens</td>\n",
       "      <td>0</td>\n",
       "      <td>Kolkata Knight Riders</td>\n",
       "      <td>Deccan Chargers</td>\n",
       "      <td>Deccan Chargers</td>\n",
       "      <td>bat</td>\n",
       "      <td>Kolkata Knight Riders</td>\n",
       "      <td>wickets</td>\n",
       "      <td>5.0</td>\n",
       "      <td>N</td>\n",
       "      <td>BF Bowden</td>\n",
       "      <td>K Hariharan</td>\n",
       "    </tr>\n",
       "    <tr>\n",
       "      <th>...</th>\n",
       "      <td>...</td>\n",
       "      <td>...</td>\n",
       "      <td>...</td>\n",
       "      <td>...</td>\n",
       "      <td>...</td>\n",
       "      <td>...</td>\n",
       "      <td>...</td>\n",
       "      <td>...</td>\n",
       "      <td>...</td>\n",
       "      <td>...</td>\n",
       "      <td>...</td>\n",
       "      <td>...</td>\n",
       "      <td>...</td>\n",
       "      <td>...</td>\n",
       "      <td>...</td>\n",
       "      <td>...</td>\n",
       "    </tr>\n",
       "    <tr>\n",
       "      <th>811</th>\n",
       "      <td>1216547</td>\n",
       "      <td>Dubai</td>\n",
       "      <td>2020-09-28</td>\n",
       "      <td>AB de Villiers</td>\n",
       "      <td>Dubai International Cricket Stadium</td>\n",
       "      <td>0</td>\n",
       "      <td>Royal Challengers Bangalore</td>\n",
       "      <td>Mumbai Indians</td>\n",
       "      <td>Mumbai Indians</td>\n",
       "      <td>field</td>\n",
       "      <td>Royal Challengers Bangalore</td>\n",
       "      <td>tie</td>\n",
       "      <td>NaN</td>\n",
       "      <td>Y</td>\n",
       "      <td>Nitin Menon</td>\n",
       "      <td>PR Reiffel</td>\n",
       "    </tr>\n",
       "    <tr>\n",
       "      <th>812</th>\n",
       "      <td>1237177</td>\n",
       "      <td>Dubai</td>\n",
       "      <td>2020-11-05</td>\n",
       "      <td>JJ Bumrah</td>\n",
       "      <td>Dubai International Cricket Stadium</td>\n",
       "      <td>0</td>\n",
       "      <td>Mumbai Indians</td>\n",
       "      <td>Delhi Capitals</td>\n",
       "      <td>Delhi Capitals</td>\n",
       "      <td>field</td>\n",
       "      <td>Mumbai Indians</td>\n",
       "      <td>runs</td>\n",
       "      <td>57.0</td>\n",
       "      <td>N</td>\n",
       "      <td>CB Gaffaney</td>\n",
       "      <td>Nitin Menon</td>\n",
       "    </tr>\n",
       "    <tr>\n",
       "      <th>813</th>\n",
       "      <td>1237178</td>\n",
       "      <td>Abu Dhabi</td>\n",
       "      <td>2020-11-06</td>\n",
       "      <td>KS Williamson</td>\n",
       "      <td>Sheikh Zayed Stadium</td>\n",
       "      <td>0</td>\n",
       "      <td>Royal Challengers Bangalore</td>\n",
       "      <td>Sunrisers Hyderabad</td>\n",
       "      <td>Sunrisers Hyderabad</td>\n",
       "      <td>field</td>\n",
       "      <td>Sunrisers Hyderabad</td>\n",
       "      <td>wickets</td>\n",
       "      <td>6.0</td>\n",
       "      <td>N</td>\n",
       "      <td>PR Reiffel</td>\n",
       "      <td>S Ravi</td>\n",
       "    </tr>\n",
       "    <tr>\n",
       "      <th>814</th>\n",
       "      <td>1237180</td>\n",
       "      <td>Abu Dhabi</td>\n",
       "      <td>2020-11-08</td>\n",
       "      <td>MP Stoinis</td>\n",
       "      <td>Sheikh Zayed Stadium</td>\n",
       "      <td>0</td>\n",
       "      <td>Delhi Capitals</td>\n",
       "      <td>Sunrisers Hyderabad</td>\n",
       "      <td>Delhi Capitals</td>\n",
       "      <td>bat</td>\n",
       "      <td>Delhi Capitals</td>\n",
       "      <td>runs</td>\n",
       "      <td>17.0</td>\n",
       "      <td>N</td>\n",
       "      <td>PR Reiffel</td>\n",
       "      <td>S Ravi</td>\n",
       "    </tr>\n",
       "    <tr>\n",
       "      <th>815</th>\n",
       "      <td>1237181</td>\n",
       "      <td>Dubai</td>\n",
       "      <td>2020-11-10</td>\n",
       "      <td>TA Boult</td>\n",
       "      <td>Dubai International Cricket Stadium</td>\n",
       "      <td>0</td>\n",
       "      <td>Delhi Capitals</td>\n",
       "      <td>Mumbai Indians</td>\n",
       "      <td>Delhi Capitals</td>\n",
       "      <td>bat</td>\n",
       "      <td>Mumbai Indians</td>\n",
       "      <td>wickets</td>\n",
       "      <td>5.0</td>\n",
       "      <td>N</td>\n",
       "      <td>CB Gaffaney</td>\n",
       "      <td>Nitin Menon</td>\n",
       "    </tr>\n",
       "  </tbody>\n",
       "</table>\n",
       "<p>816 rows × 16 columns</p>\n",
       "</div>"
      ],
      "text/plain": [
       "          id        city        date player_of_match  \\\n",
       "0     335982   Bangalore  2008-04-18     BB McCullum   \n",
       "1     335983  Chandigarh  2008-04-19      MEK Hussey   \n",
       "2     335984       Delhi  2008-04-19     MF Maharoof   \n",
       "3     335985      Mumbai  2008-04-20      MV Boucher   \n",
       "4     335986     Kolkata  2008-04-20       DJ Hussey   \n",
       "..       ...         ...         ...             ...   \n",
       "811  1216547       Dubai  2020-09-28  AB de Villiers   \n",
       "812  1237177       Dubai  2020-11-05       JJ Bumrah   \n",
       "813  1237178   Abu Dhabi  2020-11-06   KS Williamson   \n",
       "814  1237180   Abu Dhabi  2020-11-08      MP Stoinis   \n",
       "815  1237181       Dubai  2020-11-10        TA Boult   \n",
       "\n",
       "                                          venue  neutral_venue  \\\n",
       "0                         M Chinnaswamy Stadium              0   \n",
       "1    Punjab Cricket Association Stadium, Mohali              0   \n",
       "2                              Feroz Shah Kotla              0   \n",
       "3                              Wankhede Stadium              0   \n",
       "4                                  Eden Gardens              0   \n",
       "..                                          ...            ...   \n",
       "811         Dubai International Cricket Stadium              0   \n",
       "812         Dubai International Cricket Stadium              0   \n",
       "813                        Sheikh Zayed Stadium              0   \n",
       "814                        Sheikh Zayed Stadium              0   \n",
       "815         Dubai International Cricket Stadium              0   \n",
       "\n",
       "                           team1                        team2  \\\n",
       "0    Royal Challengers Bangalore        Kolkata Knight Riders   \n",
       "1                Kings XI Punjab          Chennai Super Kings   \n",
       "2               Delhi Daredevils             Rajasthan Royals   \n",
       "3                 Mumbai Indians  Royal Challengers Bangalore   \n",
       "4          Kolkata Knight Riders              Deccan Chargers   \n",
       "..                           ...                          ...   \n",
       "811  Royal Challengers Bangalore               Mumbai Indians   \n",
       "812               Mumbai Indians               Delhi Capitals   \n",
       "813  Royal Challengers Bangalore          Sunrisers Hyderabad   \n",
       "814               Delhi Capitals          Sunrisers Hyderabad   \n",
       "815               Delhi Capitals               Mumbai Indians   \n",
       "\n",
       "                     toss_winner toss_decision                       winner  \\\n",
       "0    Royal Challengers Bangalore         field        Kolkata Knight Riders   \n",
       "1            Chennai Super Kings           bat          Chennai Super Kings   \n",
       "2               Rajasthan Royals           bat             Delhi Daredevils   \n",
       "3                 Mumbai Indians           bat  Royal Challengers Bangalore   \n",
       "4                Deccan Chargers           bat        Kolkata Knight Riders   \n",
       "..                           ...           ...                          ...   \n",
       "811               Mumbai Indians         field  Royal Challengers Bangalore   \n",
       "812               Delhi Capitals         field               Mumbai Indians   \n",
       "813          Sunrisers Hyderabad         field          Sunrisers Hyderabad   \n",
       "814               Delhi Capitals           bat               Delhi Capitals   \n",
       "815               Delhi Capitals           bat               Mumbai Indians   \n",
       "\n",
       "      result  result_margin eliminator      umpire1         umpire2  \n",
       "0       runs          140.0          N    Asad Rauf     RE Koertzen  \n",
       "1       runs           33.0          N    MR Benson      SL Shastri  \n",
       "2    wickets            9.0          N    Aleem Dar  GA Pratapkumar  \n",
       "3    wickets            5.0          N     SJ Davis       DJ Harper  \n",
       "4    wickets            5.0          N    BF Bowden     K Hariharan  \n",
       "..       ...            ...        ...          ...             ...  \n",
       "811      tie            NaN          Y  Nitin Menon      PR Reiffel  \n",
       "812     runs           57.0          N  CB Gaffaney     Nitin Menon  \n",
       "813  wickets            6.0          N   PR Reiffel          S Ravi  \n",
       "814     runs           17.0          N   PR Reiffel          S Ravi  \n",
       "815  wickets            5.0          N  CB Gaffaney     Nitin Menon  \n",
       "\n",
       "[816 rows x 16 columns]"
      ]
     },
     "execution_count": 7,
     "metadata": {},
     "output_type": "execute_result"
    }
   ],
   "source": [
    "df = df.drop(['method'],axis = 1)\n",
    "df"
   ]
  },
  {
   "cell_type": "code",
   "execution_count": 8,
   "id": "ac8b82e5",
   "metadata": {},
   "outputs": [
    {
     "data": {
      "text/html": [
       "<div>\n",
       "<style scoped>\n",
       "    .dataframe tbody tr th:only-of-type {\n",
       "        vertical-align: middle;\n",
       "    }\n",
       "\n",
       "    .dataframe tbody tr th {\n",
       "        vertical-align: top;\n",
       "    }\n",
       "\n",
       "    .dataframe thead th {\n",
       "        text-align: right;\n",
       "    }\n",
       "</style>\n",
       "<table border=\"1\" class=\"dataframe\">\n",
       "  <thead>\n",
       "    <tr style=\"text-align: right;\">\n",
       "      <th></th>\n",
       "      <th>id</th>\n",
       "      <th>city</th>\n",
       "      <th>date</th>\n",
       "      <th>player_of_match</th>\n",
       "      <th>venue</th>\n",
       "      <th>neutral_venue</th>\n",
       "      <th>team1</th>\n",
       "      <th>team2</th>\n",
       "      <th>toss_winner</th>\n",
       "      <th>toss_decision</th>\n",
       "      <th>winner</th>\n",
       "      <th>result</th>\n",
       "      <th>result_margin</th>\n",
       "      <th>eliminator</th>\n",
       "      <th>umpire1</th>\n",
       "      <th>umpire2</th>\n",
       "    </tr>\n",
       "  </thead>\n",
       "  <tbody>\n",
       "    <tr>\n",
       "      <th>0</th>\n",
       "      <td>335982</td>\n",
       "      <td>Bangalore</td>\n",
       "      <td>2008-04-18</td>\n",
       "      <td>BB McCullum</td>\n",
       "      <td>M Chinnaswamy Stadium</td>\n",
       "      <td>0</td>\n",
       "      <td>Royal Challengers Bangalore</td>\n",
       "      <td>Kolkata Knight Riders</td>\n",
       "      <td>Royal Challengers Bangalore</td>\n",
       "      <td>field</td>\n",
       "      <td>Kolkata Knight Riders</td>\n",
       "      <td>runs</td>\n",
       "      <td>140.0</td>\n",
       "      <td>N</td>\n",
       "      <td>Asad Rauf</td>\n",
       "      <td>RE Koertzen</td>\n",
       "    </tr>\n",
       "    <tr>\n",
       "      <th>1</th>\n",
       "      <td>335983</td>\n",
       "      <td>Chandigarh</td>\n",
       "      <td>2008-04-19</td>\n",
       "      <td>MEK Hussey</td>\n",
       "      <td>Punjab Cricket Association Stadium, Mohali</td>\n",
       "      <td>0</td>\n",
       "      <td>Kings XI Punjab</td>\n",
       "      <td>Chennai Super Kings</td>\n",
       "      <td>Chennai Super Kings</td>\n",
       "      <td>bat</td>\n",
       "      <td>Chennai Super Kings</td>\n",
       "      <td>runs</td>\n",
       "      <td>33.0</td>\n",
       "      <td>N</td>\n",
       "      <td>MR Benson</td>\n",
       "      <td>SL Shastri</td>\n",
       "    </tr>\n",
       "    <tr>\n",
       "      <th>2</th>\n",
       "      <td>335984</td>\n",
       "      <td>Delhi</td>\n",
       "      <td>2008-04-19</td>\n",
       "      <td>MF Maharoof</td>\n",
       "      <td>Feroz Shah Kotla</td>\n",
       "      <td>0</td>\n",
       "      <td>Delhi Daredevils</td>\n",
       "      <td>Rajasthan Royals</td>\n",
       "      <td>Rajasthan Royals</td>\n",
       "      <td>bat</td>\n",
       "      <td>Delhi Daredevils</td>\n",
       "      <td>wickets</td>\n",
       "      <td>9.0</td>\n",
       "      <td>N</td>\n",
       "      <td>Aleem Dar</td>\n",
       "      <td>GA Pratapkumar</td>\n",
       "    </tr>\n",
       "    <tr>\n",
       "      <th>3</th>\n",
       "      <td>335985</td>\n",
       "      <td>Mumbai</td>\n",
       "      <td>2008-04-20</td>\n",
       "      <td>MV Boucher</td>\n",
       "      <td>Wankhede Stadium</td>\n",
       "      <td>0</td>\n",
       "      <td>Mumbai Indians</td>\n",
       "      <td>Royal Challengers Bangalore</td>\n",
       "      <td>Mumbai Indians</td>\n",
       "      <td>bat</td>\n",
       "      <td>Royal Challengers Bangalore</td>\n",
       "      <td>wickets</td>\n",
       "      <td>5.0</td>\n",
       "      <td>N</td>\n",
       "      <td>SJ Davis</td>\n",
       "      <td>DJ Harper</td>\n",
       "    </tr>\n",
       "    <tr>\n",
       "      <th>4</th>\n",
       "      <td>335986</td>\n",
       "      <td>Kolkata</td>\n",
       "      <td>2008-04-20</td>\n",
       "      <td>DJ Hussey</td>\n",
       "      <td>Eden Gardens</td>\n",
       "      <td>0</td>\n",
       "      <td>Kolkata Knight Riders</td>\n",
       "      <td>Deccan Chargers</td>\n",
       "      <td>Deccan Chargers</td>\n",
       "      <td>bat</td>\n",
       "      <td>Kolkata Knight Riders</td>\n",
       "      <td>wickets</td>\n",
       "      <td>5.0</td>\n",
       "      <td>N</td>\n",
       "      <td>BF Bowden</td>\n",
       "      <td>K Hariharan</td>\n",
       "    </tr>\n",
       "    <tr>\n",
       "      <th>...</th>\n",
       "      <td>...</td>\n",
       "      <td>...</td>\n",
       "      <td>...</td>\n",
       "      <td>...</td>\n",
       "      <td>...</td>\n",
       "      <td>...</td>\n",
       "      <td>...</td>\n",
       "      <td>...</td>\n",
       "      <td>...</td>\n",
       "      <td>...</td>\n",
       "      <td>...</td>\n",
       "      <td>...</td>\n",
       "      <td>...</td>\n",
       "      <td>...</td>\n",
       "      <td>...</td>\n",
       "      <td>...</td>\n",
       "    </tr>\n",
       "    <tr>\n",
       "      <th>810</th>\n",
       "      <td>1216546</td>\n",
       "      <td>Dubai</td>\n",
       "      <td>2020-10-20</td>\n",
       "      <td>S Dhawan</td>\n",
       "      <td>Dubai International Cricket Stadium</td>\n",
       "      <td>0</td>\n",
       "      <td>Delhi Capitals</td>\n",
       "      <td>Kings XI Punjab</td>\n",
       "      <td>Delhi Capitals</td>\n",
       "      <td>bat</td>\n",
       "      <td>Kings XI Punjab</td>\n",
       "      <td>wickets</td>\n",
       "      <td>5.0</td>\n",
       "      <td>N</td>\n",
       "      <td>C Shamshuddin</td>\n",
       "      <td>RK Illingworth</td>\n",
       "    </tr>\n",
       "    <tr>\n",
       "      <th>812</th>\n",
       "      <td>1237177</td>\n",
       "      <td>Dubai</td>\n",
       "      <td>2020-11-05</td>\n",
       "      <td>JJ Bumrah</td>\n",
       "      <td>Dubai International Cricket Stadium</td>\n",
       "      <td>0</td>\n",
       "      <td>Mumbai Indians</td>\n",
       "      <td>Delhi Capitals</td>\n",
       "      <td>Delhi Capitals</td>\n",
       "      <td>field</td>\n",
       "      <td>Mumbai Indians</td>\n",
       "      <td>runs</td>\n",
       "      <td>57.0</td>\n",
       "      <td>N</td>\n",
       "      <td>CB Gaffaney</td>\n",
       "      <td>Nitin Menon</td>\n",
       "    </tr>\n",
       "    <tr>\n",
       "      <th>813</th>\n",
       "      <td>1237178</td>\n",
       "      <td>Abu Dhabi</td>\n",
       "      <td>2020-11-06</td>\n",
       "      <td>KS Williamson</td>\n",
       "      <td>Sheikh Zayed Stadium</td>\n",
       "      <td>0</td>\n",
       "      <td>Royal Challengers Bangalore</td>\n",
       "      <td>Sunrisers Hyderabad</td>\n",
       "      <td>Sunrisers Hyderabad</td>\n",
       "      <td>field</td>\n",
       "      <td>Sunrisers Hyderabad</td>\n",
       "      <td>wickets</td>\n",
       "      <td>6.0</td>\n",
       "      <td>N</td>\n",
       "      <td>PR Reiffel</td>\n",
       "      <td>S Ravi</td>\n",
       "    </tr>\n",
       "    <tr>\n",
       "      <th>814</th>\n",
       "      <td>1237180</td>\n",
       "      <td>Abu Dhabi</td>\n",
       "      <td>2020-11-08</td>\n",
       "      <td>MP Stoinis</td>\n",
       "      <td>Sheikh Zayed Stadium</td>\n",
       "      <td>0</td>\n",
       "      <td>Delhi Capitals</td>\n",
       "      <td>Sunrisers Hyderabad</td>\n",
       "      <td>Delhi Capitals</td>\n",
       "      <td>bat</td>\n",
       "      <td>Delhi Capitals</td>\n",
       "      <td>runs</td>\n",
       "      <td>17.0</td>\n",
       "      <td>N</td>\n",
       "      <td>PR Reiffel</td>\n",
       "      <td>S Ravi</td>\n",
       "    </tr>\n",
       "    <tr>\n",
       "      <th>815</th>\n",
       "      <td>1237181</td>\n",
       "      <td>Dubai</td>\n",
       "      <td>2020-11-10</td>\n",
       "      <td>TA Boult</td>\n",
       "      <td>Dubai International Cricket Stadium</td>\n",
       "      <td>0</td>\n",
       "      <td>Delhi Capitals</td>\n",
       "      <td>Mumbai Indians</td>\n",
       "      <td>Delhi Capitals</td>\n",
       "      <td>bat</td>\n",
       "      <td>Mumbai Indians</td>\n",
       "      <td>wickets</td>\n",
       "      <td>5.0</td>\n",
       "      <td>N</td>\n",
       "      <td>CB Gaffaney</td>\n",
       "      <td>Nitin Menon</td>\n",
       "    </tr>\n",
       "  </tbody>\n",
       "</table>\n",
       "<p>786 rows × 16 columns</p>\n",
       "</div>"
      ],
      "text/plain": [
       "          id        city        date player_of_match  \\\n",
       "0     335982   Bangalore  2008-04-18     BB McCullum   \n",
       "1     335983  Chandigarh  2008-04-19      MEK Hussey   \n",
       "2     335984       Delhi  2008-04-19     MF Maharoof   \n",
       "3     335985      Mumbai  2008-04-20      MV Boucher   \n",
       "4     335986     Kolkata  2008-04-20       DJ Hussey   \n",
       "..       ...         ...         ...             ...   \n",
       "810  1216546       Dubai  2020-10-20        S Dhawan   \n",
       "812  1237177       Dubai  2020-11-05       JJ Bumrah   \n",
       "813  1237178   Abu Dhabi  2020-11-06   KS Williamson   \n",
       "814  1237180   Abu Dhabi  2020-11-08      MP Stoinis   \n",
       "815  1237181       Dubai  2020-11-10        TA Boult   \n",
       "\n",
       "                                          venue  neutral_venue  \\\n",
       "0                         M Chinnaswamy Stadium              0   \n",
       "1    Punjab Cricket Association Stadium, Mohali              0   \n",
       "2                              Feroz Shah Kotla              0   \n",
       "3                              Wankhede Stadium              0   \n",
       "4                                  Eden Gardens              0   \n",
       "..                                          ...            ...   \n",
       "810         Dubai International Cricket Stadium              0   \n",
       "812         Dubai International Cricket Stadium              0   \n",
       "813                        Sheikh Zayed Stadium              0   \n",
       "814                        Sheikh Zayed Stadium              0   \n",
       "815         Dubai International Cricket Stadium              0   \n",
       "\n",
       "                           team1                        team2  \\\n",
       "0    Royal Challengers Bangalore        Kolkata Knight Riders   \n",
       "1                Kings XI Punjab          Chennai Super Kings   \n",
       "2               Delhi Daredevils             Rajasthan Royals   \n",
       "3                 Mumbai Indians  Royal Challengers Bangalore   \n",
       "4          Kolkata Knight Riders              Deccan Chargers   \n",
       "..                           ...                          ...   \n",
       "810               Delhi Capitals              Kings XI Punjab   \n",
       "812               Mumbai Indians               Delhi Capitals   \n",
       "813  Royal Challengers Bangalore          Sunrisers Hyderabad   \n",
       "814               Delhi Capitals          Sunrisers Hyderabad   \n",
       "815               Delhi Capitals               Mumbai Indians   \n",
       "\n",
       "                     toss_winner toss_decision                       winner  \\\n",
       "0    Royal Challengers Bangalore         field        Kolkata Knight Riders   \n",
       "1            Chennai Super Kings           bat          Chennai Super Kings   \n",
       "2               Rajasthan Royals           bat             Delhi Daredevils   \n",
       "3                 Mumbai Indians           bat  Royal Challengers Bangalore   \n",
       "4                Deccan Chargers           bat        Kolkata Knight Riders   \n",
       "..                           ...           ...                          ...   \n",
       "810               Delhi Capitals           bat              Kings XI Punjab   \n",
       "812               Delhi Capitals         field               Mumbai Indians   \n",
       "813          Sunrisers Hyderabad         field          Sunrisers Hyderabad   \n",
       "814               Delhi Capitals           bat               Delhi Capitals   \n",
       "815               Delhi Capitals           bat               Mumbai Indians   \n",
       "\n",
       "      result  result_margin eliminator        umpire1         umpire2  \n",
       "0       runs          140.0          N      Asad Rauf     RE Koertzen  \n",
       "1       runs           33.0          N      MR Benson      SL Shastri  \n",
       "2    wickets            9.0          N      Aleem Dar  GA Pratapkumar  \n",
       "3    wickets            5.0          N       SJ Davis       DJ Harper  \n",
       "4    wickets            5.0          N      BF Bowden     K Hariharan  \n",
       "..       ...            ...        ...            ...             ...  \n",
       "810  wickets            5.0          N  C Shamshuddin  RK Illingworth  \n",
       "812     runs           57.0          N    CB Gaffaney     Nitin Menon  \n",
       "813  wickets            6.0          N     PR Reiffel          S Ravi  \n",
       "814     runs           17.0          N     PR Reiffel          S Ravi  \n",
       "815  wickets            5.0          N    CB Gaffaney     Nitin Menon  \n",
       "\n",
       "[786 rows x 16 columns]"
      ]
     },
     "execution_count": 8,
     "metadata": {},
     "output_type": "execute_result"
    }
   ],
   "source": [
    "df = df.dropna()\n",
    "df"
   ]
  },
  {
   "cell_type": "code",
   "execution_count": 9,
   "id": "42751c77",
   "metadata": {},
   "outputs": [
    {
     "data": {
      "text/plain": [
       "id                 0\n",
       "city               0\n",
       "date               0\n",
       "player_of_match    0\n",
       "venue              0\n",
       "neutral_venue      0\n",
       "team1              0\n",
       "team2              0\n",
       "toss_winner        0\n",
       "toss_decision      0\n",
       "winner             0\n",
       "result             0\n",
       "result_margin      0\n",
       "eliminator         0\n",
       "umpire1            0\n",
       "umpire2            0\n",
       "dtype: int64"
      ]
     },
     "execution_count": 9,
     "metadata": {},
     "output_type": "execute_result"
    }
   ],
   "source": [
    "df.isnull().sum()"
   ]
  },
  {
   "cell_type": "code",
   "execution_count": 10,
   "id": "6d5ebd9d",
   "metadata": {},
   "outputs": [
    {
     "data": {
      "text/html": [
       "<div>\n",
       "<style scoped>\n",
       "    .dataframe tbody tr th:only-of-type {\n",
       "        vertical-align: middle;\n",
       "    }\n",
       "\n",
       "    .dataframe tbody tr th {\n",
       "        vertical-align: top;\n",
       "    }\n",
       "\n",
       "    .dataframe thead th {\n",
       "        text-align: right;\n",
       "    }\n",
       "</style>\n",
       "<table border=\"1\" class=\"dataframe\">\n",
       "  <thead>\n",
       "    <tr style=\"text-align: right;\">\n",
       "      <th></th>\n",
       "      <th>id</th>\n",
       "      <th>city</th>\n",
       "      <th>date</th>\n",
       "      <th>player_of_match</th>\n",
       "      <th>venue</th>\n",
       "      <th>neutral_venue</th>\n",
       "      <th>team1</th>\n",
       "      <th>team2</th>\n",
       "      <th>toss_winner</th>\n",
       "      <th>toss_decision</th>\n",
       "      <th>winner</th>\n",
       "      <th>result</th>\n",
       "      <th>result_margin</th>\n",
       "      <th>eliminator</th>\n",
       "      <th>umpire1</th>\n",
       "      <th>umpire2</th>\n",
       "    </tr>\n",
       "  </thead>\n",
       "  <tbody>\n",
       "    <tr>\n",
       "      <th>0</th>\n",
       "      <td>335982</td>\n",
       "      <td>Bangalore</td>\n",
       "      <td>2008-04-18</td>\n",
       "      <td>BB McCullum</td>\n",
       "      <td>M Chinnaswamy Stadium</td>\n",
       "      <td>0</td>\n",
       "      <td>Royal Challengers Bangalore</td>\n",
       "      <td>Kolkata Knight Riders</td>\n",
       "      <td>Royal Challengers Bangalore</td>\n",
       "      <td>field</td>\n",
       "      <td>Kolkata Knight Riders</td>\n",
       "      <td>runs</td>\n",
       "      <td>140.0</td>\n",
       "      <td>N</td>\n",
       "      <td>Asad Rauf</td>\n",
       "      <td>RE Koertzen</td>\n",
       "    </tr>\n",
       "    <tr>\n",
       "      <th>1</th>\n",
       "      <td>335983</td>\n",
       "      <td>Chandigarh</td>\n",
       "      <td>2008-04-19</td>\n",
       "      <td>MEK Hussey</td>\n",
       "      <td>Punjab Cricket Association Stadium, Mohali</td>\n",
       "      <td>0</td>\n",
       "      <td>Kings XI Punjab</td>\n",
       "      <td>Chennai Super Kings</td>\n",
       "      <td>Chennai Super Kings</td>\n",
       "      <td>bat</td>\n",
       "      <td>Chennai Super Kings</td>\n",
       "      <td>runs</td>\n",
       "      <td>33.0</td>\n",
       "      <td>N</td>\n",
       "      <td>MR Benson</td>\n",
       "      <td>SL Shastri</td>\n",
       "    </tr>\n",
       "    <tr>\n",
       "      <th>2</th>\n",
       "      <td>335984</td>\n",
       "      <td>Delhi</td>\n",
       "      <td>2008-04-19</td>\n",
       "      <td>MF Maharoof</td>\n",
       "      <td>Feroz Shah Kotla</td>\n",
       "      <td>0</td>\n",
       "      <td>Delhi Daredevils</td>\n",
       "      <td>Rajasthan Royals</td>\n",
       "      <td>Rajasthan Royals</td>\n",
       "      <td>bat</td>\n",
       "      <td>Delhi Daredevils</td>\n",
       "      <td>wickets</td>\n",
       "      <td>9.0</td>\n",
       "      <td>N</td>\n",
       "      <td>Aleem Dar</td>\n",
       "      <td>GA Pratapkumar</td>\n",
       "    </tr>\n",
       "    <tr>\n",
       "      <th>3</th>\n",
       "      <td>335985</td>\n",
       "      <td>Mumbai</td>\n",
       "      <td>2008-04-20</td>\n",
       "      <td>MV Boucher</td>\n",
       "      <td>Wankhede Stadium</td>\n",
       "      <td>0</td>\n",
       "      <td>Mumbai Indians</td>\n",
       "      <td>Royal Challengers Bangalore</td>\n",
       "      <td>Mumbai Indians</td>\n",
       "      <td>bat</td>\n",
       "      <td>Royal Challengers Bangalore</td>\n",
       "      <td>wickets</td>\n",
       "      <td>5.0</td>\n",
       "      <td>N</td>\n",
       "      <td>SJ Davis</td>\n",
       "      <td>DJ Harper</td>\n",
       "    </tr>\n",
       "    <tr>\n",
       "      <th>4</th>\n",
       "      <td>335986</td>\n",
       "      <td>Kolkata</td>\n",
       "      <td>2008-04-20</td>\n",
       "      <td>DJ Hussey</td>\n",
       "      <td>Eden Gardens</td>\n",
       "      <td>0</td>\n",
       "      <td>Kolkata Knight Riders</td>\n",
       "      <td>Deccan Chargers</td>\n",
       "      <td>Deccan Chargers</td>\n",
       "      <td>bat</td>\n",
       "      <td>Kolkata Knight Riders</td>\n",
       "      <td>wickets</td>\n",
       "      <td>5.0</td>\n",
       "      <td>N</td>\n",
       "      <td>BF Bowden</td>\n",
       "      <td>K Hariharan</td>\n",
       "    </tr>\n",
       "    <tr>\n",
       "      <th>...</th>\n",
       "      <td>...</td>\n",
       "      <td>...</td>\n",
       "      <td>...</td>\n",
       "      <td>...</td>\n",
       "      <td>...</td>\n",
       "      <td>...</td>\n",
       "      <td>...</td>\n",
       "      <td>...</td>\n",
       "      <td>...</td>\n",
       "      <td>...</td>\n",
       "      <td>...</td>\n",
       "      <td>...</td>\n",
       "      <td>...</td>\n",
       "      <td>...</td>\n",
       "      <td>...</td>\n",
       "      <td>...</td>\n",
       "    </tr>\n",
       "    <tr>\n",
       "      <th>810</th>\n",
       "      <td>1216546</td>\n",
       "      <td>Dubai</td>\n",
       "      <td>2020-10-20</td>\n",
       "      <td>S Dhawan</td>\n",
       "      <td>Dubai International Cricket Stadium</td>\n",
       "      <td>0</td>\n",
       "      <td>Delhi Capitals</td>\n",
       "      <td>Kings XI Punjab</td>\n",
       "      <td>Delhi Capitals</td>\n",
       "      <td>bat</td>\n",
       "      <td>Kings XI Punjab</td>\n",
       "      <td>wickets</td>\n",
       "      <td>5.0</td>\n",
       "      <td>N</td>\n",
       "      <td>C Shamshuddin</td>\n",
       "      <td>RK Illingworth</td>\n",
       "    </tr>\n",
       "    <tr>\n",
       "      <th>812</th>\n",
       "      <td>1237177</td>\n",
       "      <td>Dubai</td>\n",
       "      <td>2020-11-05</td>\n",
       "      <td>JJ Bumrah</td>\n",
       "      <td>Dubai International Cricket Stadium</td>\n",
       "      <td>0</td>\n",
       "      <td>Mumbai Indians</td>\n",
       "      <td>Delhi Capitals</td>\n",
       "      <td>Delhi Capitals</td>\n",
       "      <td>field</td>\n",
       "      <td>Mumbai Indians</td>\n",
       "      <td>runs</td>\n",
       "      <td>57.0</td>\n",
       "      <td>N</td>\n",
       "      <td>CB Gaffaney</td>\n",
       "      <td>Nitin Menon</td>\n",
       "    </tr>\n",
       "    <tr>\n",
       "      <th>813</th>\n",
       "      <td>1237178</td>\n",
       "      <td>Abu Dhabi</td>\n",
       "      <td>2020-11-06</td>\n",
       "      <td>KS Williamson</td>\n",
       "      <td>Sheikh Zayed Stadium</td>\n",
       "      <td>0</td>\n",
       "      <td>Royal Challengers Bangalore</td>\n",
       "      <td>Sunrisers Hyderabad</td>\n",
       "      <td>Sunrisers Hyderabad</td>\n",
       "      <td>field</td>\n",
       "      <td>Sunrisers Hyderabad</td>\n",
       "      <td>wickets</td>\n",
       "      <td>6.0</td>\n",
       "      <td>N</td>\n",
       "      <td>PR Reiffel</td>\n",
       "      <td>S Ravi</td>\n",
       "    </tr>\n",
       "    <tr>\n",
       "      <th>814</th>\n",
       "      <td>1237180</td>\n",
       "      <td>Abu Dhabi</td>\n",
       "      <td>2020-11-08</td>\n",
       "      <td>MP Stoinis</td>\n",
       "      <td>Sheikh Zayed Stadium</td>\n",
       "      <td>0</td>\n",
       "      <td>Delhi Capitals</td>\n",
       "      <td>Sunrisers Hyderabad</td>\n",
       "      <td>Delhi Capitals</td>\n",
       "      <td>bat</td>\n",
       "      <td>Delhi Capitals</td>\n",
       "      <td>runs</td>\n",
       "      <td>17.0</td>\n",
       "      <td>N</td>\n",
       "      <td>PR Reiffel</td>\n",
       "      <td>S Ravi</td>\n",
       "    </tr>\n",
       "    <tr>\n",
       "      <th>815</th>\n",
       "      <td>1237181</td>\n",
       "      <td>Dubai</td>\n",
       "      <td>2020-11-10</td>\n",
       "      <td>TA Boult</td>\n",
       "      <td>Dubai International Cricket Stadium</td>\n",
       "      <td>0</td>\n",
       "      <td>Delhi Capitals</td>\n",
       "      <td>Mumbai Indians</td>\n",
       "      <td>Delhi Capitals</td>\n",
       "      <td>bat</td>\n",
       "      <td>Mumbai Indians</td>\n",
       "      <td>wickets</td>\n",
       "      <td>5.0</td>\n",
       "      <td>N</td>\n",
       "      <td>CB Gaffaney</td>\n",
       "      <td>Nitin Menon</td>\n",
       "    </tr>\n",
       "  </tbody>\n",
       "</table>\n",
       "<p>786 rows × 16 columns</p>\n",
       "</div>"
      ],
      "text/plain": [
       "          id        city        date player_of_match  \\\n",
       "0     335982   Bangalore  2008-04-18     BB McCullum   \n",
       "1     335983  Chandigarh  2008-04-19      MEK Hussey   \n",
       "2     335984       Delhi  2008-04-19     MF Maharoof   \n",
       "3     335985      Mumbai  2008-04-20      MV Boucher   \n",
       "4     335986     Kolkata  2008-04-20       DJ Hussey   \n",
       "..       ...         ...         ...             ...   \n",
       "810  1216546       Dubai  2020-10-20        S Dhawan   \n",
       "812  1237177       Dubai  2020-11-05       JJ Bumrah   \n",
       "813  1237178   Abu Dhabi  2020-11-06   KS Williamson   \n",
       "814  1237180   Abu Dhabi  2020-11-08      MP Stoinis   \n",
       "815  1237181       Dubai  2020-11-10        TA Boult   \n",
       "\n",
       "                                          venue  neutral_venue  \\\n",
       "0                         M Chinnaswamy Stadium              0   \n",
       "1    Punjab Cricket Association Stadium, Mohali              0   \n",
       "2                              Feroz Shah Kotla              0   \n",
       "3                              Wankhede Stadium              0   \n",
       "4                                  Eden Gardens              0   \n",
       "..                                          ...            ...   \n",
       "810         Dubai International Cricket Stadium              0   \n",
       "812         Dubai International Cricket Stadium              0   \n",
       "813                        Sheikh Zayed Stadium              0   \n",
       "814                        Sheikh Zayed Stadium              0   \n",
       "815         Dubai International Cricket Stadium              0   \n",
       "\n",
       "                           team1                        team2  \\\n",
       "0    Royal Challengers Bangalore        Kolkata Knight Riders   \n",
       "1                Kings XI Punjab          Chennai Super Kings   \n",
       "2               Delhi Daredevils             Rajasthan Royals   \n",
       "3                 Mumbai Indians  Royal Challengers Bangalore   \n",
       "4          Kolkata Knight Riders              Deccan Chargers   \n",
       "..                           ...                          ...   \n",
       "810               Delhi Capitals              Kings XI Punjab   \n",
       "812               Mumbai Indians               Delhi Capitals   \n",
       "813  Royal Challengers Bangalore          Sunrisers Hyderabad   \n",
       "814               Delhi Capitals          Sunrisers Hyderabad   \n",
       "815               Delhi Capitals               Mumbai Indians   \n",
       "\n",
       "                     toss_winner toss_decision                       winner  \\\n",
       "0    Royal Challengers Bangalore         field        Kolkata Knight Riders   \n",
       "1            Chennai Super Kings           bat          Chennai Super Kings   \n",
       "2               Rajasthan Royals           bat             Delhi Daredevils   \n",
       "3                 Mumbai Indians           bat  Royal Challengers Bangalore   \n",
       "4                Deccan Chargers           bat        Kolkata Knight Riders   \n",
       "..                           ...           ...                          ...   \n",
       "810               Delhi Capitals           bat              Kings XI Punjab   \n",
       "812               Delhi Capitals         field               Mumbai Indians   \n",
       "813          Sunrisers Hyderabad         field          Sunrisers Hyderabad   \n",
       "814               Delhi Capitals           bat               Delhi Capitals   \n",
       "815               Delhi Capitals           bat               Mumbai Indians   \n",
       "\n",
       "      result  result_margin eliminator        umpire1         umpire2  \n",
       "0       runs          140.0          N      Asad Rauf     RE Koertzen  \n",
       "1       runs           33.0          N      MR Benson      SL Shastri  \n",
       "2    wickets            9.0          N      Aleem Dar  GA Pratapkumar  \n",
       "3    wickets            5.0          N       SJ Davis       DJ Harper  \n",
       "4    wickets            5.0          N      BF Bowden     K Hariharan  \n",
       "..       ...            ...        ...            ...             ...  \n",
       "810  wickets            5.0          N  C Shamshuddin  RK Illingworth  \n",
       "812     runs           57.0          N    CB Gaffaney     Nitin Menon  \n",
       "813  wickets            6.0          N     PR Reiffel          S Ravi  \n",
       "814     runs           17.0          N     PR Reiffel          S Ravi  \n",
       "815  wickets            5.0          N    CB Gaffaney     Nitin Menon  \n",
       "\n",
       "[786 rows x 16 columns]"
      ]
     },
     "execution_count": 10,
     "metadata": {},
     "output_type": "execute_result"
    }
   ],
   "source": [
    "df1 = df.copy()\n",
    "df1"
   ]
  },
  {
   "cell_type": "markdown",
   "id": "f95e9f2f",
   "metadata": {},
   "source": [
    "##### Now lets replace the names of the teams and so called dupicates according to the current edition of IPL 2021."
   ]
  },
  {
   "cell_type": "code",
   "execution_count": 11,
   "id": "d3b95c5e",
   "metadata": {},
   "outputs": [
    {
     "data": {
      "text/plain": [
       "Mumbai Indians                 118\n",
       "Chennai Super Kings            103\n",
       "Kolkata Knight Riders           97\n",
       "Royal Challengers Bangalore     87\n",
       "Kings XI Punjab                 82\n",
       "Rajasthan Royals                79\n",
       "Delhi Daredevils                65\n",
       "Sunrisers Hyderabad             63\n",
       "Deccan Chargers                 29\n",
       "Delhi Capitals                  17\n",
       "Gujarat Lions                   13\n",
       "Pune Warriors                   12\n",
       "Rising Pune Supergiant          10\n",
       "Kochi Tuskers Kerala             6\n",
       "Rising Pune Supergiants          5\n",
       "Name: winner, dtype: int64"
      ]
     },
     "execution_count": 11,
     "metadata": {},
     "output_type": "execute_result"
    }
   ],
   "source": [
    "df1['winner'].value_counts()"
   ]
  },
  {
   "cell_type": "code",
   "execution_count": 12,
   "id": "9687e609",
   "metadata": {},
   "outputs": [
    {
     "data": {
      "text/plain": [
       "Mumbai Indians                 118\n",
       "Chennai Super Kings            103\n",
       "Kolkata Knight Riders           97\n",
       "Sunrisers Hyderabad             92\n",
       "Royal Challengers Bangalore     87\n",
       "Delhi Capitals                  82\n",
       "Punjab Kings                    82\n",
       "Rajasthan Royals                79\n",
       "Rising Pune Supergiants         27\n",
       "Gujarat Lions                   13\n",
       "Kochi Tuskers Kerala             6\n",
       "Name: winner, dtype: int64"
      ]
     },
     "execution_count": 12,
     "metadata": {},
     "output_type": "execute_result"
    }
   ],
   "source": [
    "df1['winner'].replace('Delhi Daredevils','Delhi Capitals',inplace = True)\n",
    "df1['winner'].replace('Kings XI Punjab','Punjab Kings',inplace = True)\n",
    "df1['winner'].replace('Deccan Chargers','Sunrisers Hyderabad',inplace = True)\n",
    "df1['winner'].replace('Rising Pune Supergiant','Rising Pune Supergiants',inplace = True)\n",
    "df1['winner'].replace('Pune Warriors','Rising Pune Supergiants',inplace = True)\n",
    "\n",
    "df1['team1'].replace('Delhi Daredevils','Delhi Capitals',inplace = True)\n",
    "df1['team1'].replace('Kings XI Punjab','Punjab Kings',inplace = True)\n",
    "df1['team1'].replace('Deccan Chargers','Sunrisers Hyderabad',inplace = True)\n",
    "df1['team1'].replace('Rising Pune Supergiant','Rising Pune Supergiants',inplace = True)\n",
    "df1['team1'].replace('Pune Warriors','Rising Pune Supergiants',inplace = True)\n",
    "\n",
    "df1['team2'].replace('Delhi Daredevils','Delhi Capitals',inplace = True)\n",
    "df1['team2'].replace('Kings XI Punjab','Punjab Kings',inplace = True)\n",
    "df1['team2'].replace('Deccan Chargers','Sunrisers Hyderabad',inplace = True)\n",
    "df1['team2'].replace('Rising Pune Supergiant','Rising Pune Supergiants',inplace = True)\n",
    "df1['team2'].replace('Pune Warriors','Rising Pune Supergiants',inplace = True)\n",
    "\n",
    "df1['toss_winner'].replace('Delhi Daredevils','Delhi Capitals',inplace = True)\n",
    "df1['toss_winner'].replace('Kings XI Punjab','Punjab Kings',inplace = True)\n",
    "df1['toss_winner'].replace('Deccan Chargers','Sunrisers Hyderabad',inplace = True)\n",
    "df1['toss_winner'].replace('Rising Pune Supergiant','Rising Pune Supergiants',inplace = True)\n",
    "df1['toss_winner'].replace('Pune Warriors','Rising Pune Supergiants',inplace = True)\n",
    "\n",
    "df1['winner'].value_counts()\n"
   ]
  },
  {
   "cell_type": "code",
   "execution_count": 13,
   "id": "9db4e1fb",
   "metadata": {},
   "outputs": [
    {
     "data": {
      "text/plain": [
       "Royal Challengers Bangalore    101\n",
       "Delhi Capitals                  97\n",
       "Sunrisers Hyderabad             95\n",
       "Mumbai Indians                  94\n",
       "Chennai Super Kings             92\n",
       "Kolkata Knight Riders           91\n",
       "Punjab Kings                    90\n",
       "Rajasthan Royals                67\n",
       "Rising Pune Supergiants         37\n",
       "Gujarat Lions                   15\n",
       "Kochi Tuskers Kerala             7\n",
       "Name: team1, dtype: int64"
      ]
     },
     "execution_count": 13,
     "metadata": {},
     "output_type": "execute_result"
    }
   ],
   "source": [
    "df1['team1'].value_counts()"
   ]
  },
  {
   "cell_type": "code",
   "execution_count": 14,
   "id": "758acf22",
   "metadata": {},
   "outputs": [
    {
     "data": {
      "text/plain": [
       "Mumbai Indians                 101\n",
       "Sunrisers Hyderabad             97\n",
       "Kolkata Knight Riders           95\n",
       "Punjab Kings                    93\n",
       "Delhi Capitals                  88\n",
       "Rajasthan Royals                87\n",
       "Royal Challengers Bangalore     84\n",
       "Chennai Super Kings             82\n",
       "Rising Pune Supergiants         38\n",
       "Gujarat Lions                   14\n",
       "Kochi Tuskers Kerala             7\n",
       "Name: team2, dtype: int64"
      ]
     },
     "execution_count": 14,
     "metadata": {},
     "output_type": "execute_result"
    }
   ],
   "source": [
    "df1['team2'].value_counts()"
   ]
  },
  {
   "cell_type": "code",
   "execution_count": 15,
   "id": "33e7e37a",
   "metadata": {},
   "outputs": [
    {
     "data": {
      "text/plain": [
       "Mumbai Indians                 100\n",
       "Delhi Capitals                  98\n",
       "Chennai Super Kings             96\n",
       "Kolkata Knight Riders           96\n",
       "Sunrisers Hyderabad             96\n",
       "Rajasthan Royals                83\n",
       "Royal Challengers Bangalore     81\n",
       "Punjab Kings                    81\n",
       "Rising Pune Supergiants         33\n",
       "Gujarat Lions                   14\n",
       "Kochi Tuskers Kerala             8\n",
       "Name: toss_winner, dtype: int64"
      ]
     },
     "execution_count": 15,
     "metadata": {},
     "output_type": "execute_result"
    }
   ],
   "source": [
    "df1['toss_winner'].value_counts()"
   ]
  },
  {
   "cell_type": "markdown",
   "id": "3c786f27",
   "metadata": {},
   "source": [
    "### Since now all the replacing has been done lets being the Data Analysis part of the story"
   ]
  },
  {
   "cell_type": "markdown",
   "id": "595a1e78",
   "metadata": {},
   "source": [
    "#### Lets calculate how many matches have each team played as of yet:"
   ]
  },
  {
   "cell_type": "code",
   "execution_count": 16,
   "id": "d5387396",
   "metadata": {},
   "outputs": [
    {
     "data": {
      "text/plain": [
       "'Mumbai Indians have in all played 195 number of games.'"
      ]
     },
     "execution_count": 16,
     "metadata": {},
     "output_type": "execute_result"
    }
   ],
   "source": [
    "MI_1 = df[df['team1']=='Mumbai Indians']['team1'].count()\n",
    "MI_2 = df[df['team2']=='Mumbai Indians']['team2'].count()\n",
    "\n",
    "total_matches_MI = MI_1 + MI_2\n",
    "\"Mumbai Indians have in all played {} number of games.\".format(total_matches_MI)"
   ]
  },
  {
   "cell_type": "code",
   "execution_count": 17,
   "id": "20a256ba",
   "metadata": {},
   "outputs": [
    {
     "data": {
      "text/plain": [
       "'Chennai Super Kings have in all played 174 number of games.'"
      ]
     },
     "execution_count": 17,
     "metadata": {},
     "output_type": "execute_result"
    }
   ],
   "source": [
    "CSK_1 = df[df['team1']=='Chennai Super Kings']['team1'].count()\n",
    "CSK_2 = df[df['team2']=='Chennai Super Kings']['team2'].count()\n",
    "\n",
    "total_matches_CSK = CSK_1 + CSK_2\n",
    "\"Chennai Super Kings have in all played {} number of games.\".format(total_matches_CSK)"
   ]
  },
  {
   "cell_type": "code",
   "execution_count": 18,
   "id": "9b79f671",
   "metadata": {},
   "outputs": [
    {
     "data": {
      "text/plain": [
       "'Kolkata Knight Riders have in all played 186 number of games.'"
      ]
     },
     "execution_count": 18,
     "metadata": {},
     "output_type": "execute_result"
    }
   ],
   "source": [
    "KKR_1 = df[df['team1']=='Kolkata Knight Riders']['team1'].count()\n",
    "KKR_2 = df[df['team2']=='Kolkata Knight Riders']['team2'].count()\n",
    "\n",
    "total_matches_KKR = KKR_1 + KKR_2\n",
    "\"Kolkata Knight Riders have in all played {} number of games.\".format(total_matches_KKR)"
   ]
  },
  {
   "cell_type": "code",
   "execution_count": 19,
   "id": "43d8388a",
   "metadata": {},
   "outputs": [
    {
     "data": {
      "text/plain": [
       "'Sunrisers Hyderabad have in all played 192 number of games.'"
      ]
     },
     "execution_count": 19,
     "metadata": {},
     "output_type": "execute_result"
    }
   ],
   "source": [
    "SRH_1 = df1[df1['team1']=='Sunrisers Hyderabad']['team1'].count()\n",
    "SRH_2 = df1[df1['team2']=='Sunrisers Hyderabad']['team2'].count()\n",
    "\n",
    "total_matches_SRH = SRH_1 + SRH_2\n",
    "\"Sunrisers Hyderabad have in all played {} number of games.\".format(total_matches_SRH)"
   ]
  },
  {
   "cell_type": "code",
   "execution_count": 20,
   "id": "9f07936d",
   "metadata": {},
   "outputs": [
    {
     "data": {
      "text/plain": [
       "'Delhi Capitals have in all played 185 number of games.'"
      ]
     },
     "execution_count": 20,
     "metadata": {},
     "output_type": "execute_result"
    }
   ],
   "source": [
    "DC_1 = df1[df1['team1']=='Delhi Capitals']['team1'].count()\n",
    "DC_2 = df1[df1['team2']=='Delhi Capitals']['team2'].count()\n",
    "\n",
    "total_matches_DC = DC_1 + DC_2\n",
    "\"Delhi Capitals have in all played {} number of games.\".format(total_matches_DC)"
   ]
  },
  {
   "cell_type": "code",
   "execution_count": 21,
   "id": "810e54f3",
   "metadata": {},
   "outputs": [
    {
     "data": {
      "text/plain": [
       "'Rajasthan Royals have in all played 154 number of games.'"
      ]
     },
     "execution_count": 21,
     "metadata": {},
     "output_type": "execute_result"
    }
   ],
   "source": [
    "RR_1 = df1[df1['team1']=='Rajasthan Royals']['team1'].count()\n",
    "RR_2 = df1[df1['team2']=='Rajasthan Royals']['team2'].count()\n",
    "\n",
    "total_matches_RR = RR_1 + RR_2\n",
    "\"Rajasthan Royals have in all played {} number of games.\".format(total_matches_RR)"
   ]
  },
  {
   "cell_type": "code",
   "execution_count": 22,
   "id": "8e5f6602",
   "metadata": {},
   "outputs": [
    {
     "data": {
      "text/plain": [
       "'Royal Challengers Bangalore have in all played 185 number of games.'"
      ]
     },
     "execution_count": 22,
     "metadata": {},
     "output_type": "execute_result"
    }
   ],
   "source": [
    "RCB_1 = df[df['team1']=='Royal Challengers Bangalore']['team1'].count()\n",
    "RCB_2 = df[df['team2']=='Royal Challengers Bangalore']['team2'].count()\n",
    "\n",
    "total_matches_RCB = RCB_1 + RCB_2\n",
    "\"Royal Challengers Bangalore have in all played {} number of games.\".format(total_matches_RCB)"
   ]
  },
  {
   "cell_type": "code",
   "execution_count": 23,
   "id": "bed69ec1",
   "metadata": {},
   "outputs": [
    {
     "data": {
      "text/plain": [
       "'Punjab Kings have in all played 183 number of games.'"
      ]
     },
     "execution_count": 23,
     "metadata": {},
     "output_type": "execute_result"
    }
   ],
   "source": [
    "PBKS_1 = df1[df1['team1']=='Punjab Kings']['team1'].count()\n",
    "PBKS_2 = df1[df1['team2']=='Punjab Kings']['team2'].count()\n",
    "\n",
    "total_matches_PBKS = PBKS_1 + PBKS_2\n",
    "\"Punjab Kings have in all played {} number of games.\".format(total_matches_PBKS)"
   ]
  },
  {
   "cell_type": "code",
   "execution_count": 24,
   "id": "f0e1092a",
   "metadata": {},
   "outputs": [
    {
     "data": {
      "text/plain": [
       "'Rising Pune Supergiants have in all played 75 number of games.'"
      ]
     },
     "execution_count": 24,
     "metadata": {},
     "output_type": "execute_result"
    }
   ],
   "source": [
    "RPS_1 = df1[df1['team1']=='Rising Pune Supergiants']['team1'].count()\n",
    "RPS_2 = df1[df1['team2']=='Rising Pune Supergiants']['team2'].count()\n",
    "\n",
    "total_matches_RPS = RPS_1 + RPS_2\n",
    "\"Rising Pune Supergiants have in all played {} number of games.\".format(total_matches_RPS)"
   ]
  },
  {
   "cell_type": "code",
   "execution_count": 25,
   "id": "7ac6ac1b",
   "metadata": {},
   "outputs": [
    {
     "data": {
      "text/plain": [
       "'Gujarat Lions have in all played 29 number of games.'"
      ]
     },
     "execution_count": 25,
     "metadata": {},
     "output_type": "execute_result"
    }
   ],
   "source": [
    "GL_1 = df[df['team1']=='Gujarat Lions']['team1'].count()\n",
    "GL_2 = df[df['team2']=='Gujarat Lions']['team2'].count()\n",
    "\n",
    "total_matches_GL = GL_1 + GL_2\n",
    "\"Gujarat Lions have in all played {} number of games.\".format(total_matches_GL)"
   ]
  },
  {
   "cell_type": "code",
   "execution_count": 26,
   "id": "b3430fc6",
   "metadata": {},
   "outputs": [
    {
     "data": {
      "text/plain": [
       "'Kochi Tuskers Kerala have in all played 14 number of games.'"
      ]
     },
     "execution_count": 26,
     "metadata": {},
     "output_type": "execute_result"
    }
   ],
   "source": [
    "KT_1 = df1[df1['team1']=='Kochi Tuskers Kerala']['team1'].count()\n",
    "KT_2 = df1[df1['team2']=='Kochi Tuskers Kerala']['team2'].count()\n",
    "\n",
    "total_matches_KT = KT_1 + KT_2\n",
    "\"Kochi Tuskers Kerala have in all played {} number of games.\".format(total_matches_KT)"
   ]
  },
  {
   "cell_type": "markdown",
   "id": "b70fdccc",
   "metadata": {},
   "source": [
    "### Now we will import all this data to a dictionary and then generate a plot for it"
   ]
  },
  {
   "cell_type": "code",
   "execution_count": 27,
   "id": "2b53da66",
   "metadata": {},
   "outputs": [],
   "source": [
    "team_dict = {'Mumbai Indians':total_matches_MI,\n",
    "             'Chennai Super Kings':total_matches_CSK,\n",
    "             'Kolkata Knight Riders':total_matches_KKR,\n",
    "             'Sunrisers Hyderabad':total_matches_SRH,\n",
    "             'Delhi Captials':total_matches_DC,\n",
    "             'Sunrisers Hyderabad':total_matches_SRH,\n",
    "             'Rajasthan Royals':total_matches_RR,\n",
    "             'Royal Challengers Bangalore':total_matches_RCB,\n",
    "             'Punjab Kings':total_matches_PBKS,\n",
    "             'Rising Pune Supergiants':total_matches_RPS,\n",
    "             'Gujarat Lions':total_matches_GL,\n",
    "             'Kochi Tuskers Kerala':total_matches_KT}"
   ]
  },
  {
   "cell_type": "code",
   "execution_count": 30,
   "id": "12389c1a",
   "metadata": {},
   "outputs": [
    {
     "name": "stderr",
     "output_type": "stream",
     "text": [
      "<ipython-input-30-182ef3b60769>:19: UserWarning:\n",
      "\n",
      "This figure includes Axes that are not compatible with tight_layout, so results might be incorrect.\n",
      "\n"
     ]
    },
    {
     "data": {
      "image/png": "[encoded data removed]",
      "text/plain": [
       "<Figure size 1008x432 with 1 Axes>"
      ]
     },
     "metadata": {
      "needs_background": "light"
     },
     "output_type": "display_data"
    }
   ],
   "source": [
    "fig = plt.figure(figsize = (14,6))\n",
    "\n",
    "keys = team_dict.keys()\n",
    "values = team_dict.values()\n",
    "\n",
    "axes1= fig.add_axes([0,0,1,1])\n",
    "axes1.bar(keys,values,width = 0.5)\n",
    "axes1.set_title('Total Matches played by the Teams')\n",
    "axes1.set_xlabel('Teams')\n",
    "axes1.set_ylabel('Count')\n",
    "\n",
    "for q in axes1.patches:\n",
    "    axes1.annotate(format(q.get_height(), '.1f'), \n",
    "                   (q.get_x() + q.get_width() / 2., q.get_height()), \n",
    "                   ha = 'center', va = 'center', \n",
    "                   xytext = (0, 9), \n",
    "                   textcoords = 'offset points')\n",
    "    \n",
    "fig.tight_layout()"
   ]
  },
  {
   "cell_type": "code",
   "execution_count": 99,
   "id": "c780d383",
   "metadata": {},
   "outputs": [
    {
     "data": {
      "image/png": "[encoded data removed]",
      "text/plain": [
       "<Figure size 1440x864 with 1 Axes>"
      ]
     },
     "metadata": {
      "needs_background": "light"
     },
     "output_type": "display_data"
    }
   ],
   "source": [
    "plt.figure(figsize=(20,12))\n",
    "count_plot=sns.countplot(x='winner',data = df1)\n",
    "count_plot.set_title('Number of matches won by the Teams')\n",
    "count_plot.set_xlabel('Teams')\n",
    "count_plot.set_ylabel('Count')\n",
    "\n",
    "for p in count_plot.patches:\n",
    "    count_plot.annotate(format(p.get_height(), '.1f'), \n",
    "                   (p.get_x() + p.get_width() / 2., p.get_height()), \n",
    "                   ha = 'center', va = 'center', \n",
    "                   xytext = (0, 9), \n",
    "                   textcoords = 'offset points')\n",
    "    \n",
    "plt.tight_layout()"
   ]
  },
  {
   "cell_type": "markdown",
   "id": "2d5d5f52",
   "metadata": {},
   "source": [
    "#### As we can see Mumbai Indians have won the maximum number of matches as compared to all the other teams "
   ]
  },
  {
   "cell_type": "markdown",
   "id": "d3f1bf71",
   "metadata": {},
   "source": [
    "### Now lets try to look at how important is the toss to win the game for every team"
   ]
  },
  {
   "cell_type": "code",
   "execution_count": 32,
   "id": "e5eef5b1",
   "metadata": {},
   "outputs": [],
   "source": [
    "def toss_win_percent(toss_wins,total_games,team):\n",
    "    toss_wins = int(toss_wins)\n",
    "    total_games = int(total_games)\n",
    "    percent= (toss_wins/total_games)*100\n",
    "    print(\"{}'s percentage of winning the game after winning the toss is {}\".format(team, percent))"
   ]
  },
  {
   "cell_type": "code",
   "execution_count": 33,
   "id": "91f00a06",
   "metadata": {},
   "outputs": [
    {
     "data": {
      "text/plain": [
       "Mumbai Indians                 118\n",
       "Chennai Super Kings            103\n",
       "Kolkata Knight Riders           97\n",
       "Sunrisers Hyderabad             92\n",
       "Royal Challengers Bangalore     87\n",
       "Delhi Capitals                  82\n",
       "Punjab Kings                    82\n",
       "Rajasthan Royals                79\n",
       "Rising Pune Supergiants         27\n",
       "Gujarat Lions                   13\n",
       "Kochi Tuskers Kerala             6\n",
       "Name: winner, dtype: int64"
      ]
     },
     "execution_count": 33,
     "metadata": {},
     "output_type": "execute_result"
    }
   ],
   "source": [
    "df1['winner'].value_counts()"
   ]
  },
  {
   "cell_type": "code",
   "execution_count": 34,
   "id": "ceaf4372",
   "metadata": {},
   "outputs": [
    {
     "data": {
      "text/plain": [
       "Mumbai Indians                 60\n",
       "Delhi Capitals                 12\n",
       "Kolkata Knight Riders           9\n",
       "Sunrisers Hyderabad             8\n",
       "Chennai Super Kings             7\n",
       "Punjab Kings                    7\n",
       "Royal Challengers Bangalore     6\n",
       "Rajasthan Royals                6\n",
       "Rising Pune Supergiants         3\n",
       "Name: toss_winner, dtype: int64"
      ]
     },
     "execution_count": 34,
     "metadata": {},
     "output_type": "execute_result"
    }
   ],
   "source": [
    "df1[df1['winner']=='Mumbai Indians']['toss_winner'].value_counts()"
   ]
  },
  {
   "cell_type": "code",
   "execution_count": 35,
   "id": "6a7b383b",
   "metadata": {},
   "outputs": [
    {
     "name": "stdout",
     "output_type": "stream",
     "text": [
      "Mumbai Indians's percentage of winning the game after winning the toss is 50.847457627118644\n"
     ]
    }
   ],
   "source": [
    "toss_win_percent(60,118,'Mumbai Indians')"
   ]
  },
  {
   "cell_type": "code",
   "execution_count": 36,
   "id": "6879b7ff",
   "metadata": {},
   "outputs": [
    {
     "data": {
      "text/plain": [
       "Chennai Super Kings            61\n",
       "Rajasthan Royals                9\n",
       "Delhi Capitals                  7\n",
       "Kolkata Knight Riders           6\n",
       "Sunrisers Hyderabad             5\n",
       "Punjab Kings                    4\n",
       "Royal Challengers Bangalore     4\n",
       "Mumbai Indians                  4\n",
       "Rising Pune Supergiants         3\n",
       "Name: toss_winner, dtype: int64"
      ]
     },
     "execution_count": 36,
     "metadata": {},
     "output_type": "execute_result"
    }
   ],
   "source": [
    "df1[df1['winner']=='Chennai Super Kings']['toss_winner'].value_counts()"
   ]
  },
  {
   "cell_type": "code",
   "execution_count": 37,
   "id": "08840bff",
   "metadata": {},
   "outputs": [
    {
     "name": "stdout",
     "output_type": "stream",
     "text": [
      "Chennai Super Kings's percentage of winning the game after winning the toss is 59.22330097087378\n"
     ]
    }
   ],
   "source": [
    "toss_win_percent(61,103,'Chennai Super Kings')"
   ]
  },
  {
   "cell_type": "code",
   "execution_count": 38,
   "id": "c34db552",
   "metadata": {},
   "outputs": [
    {
     "data": {
      "text/plain": [
       "Delhi Capitals                 44\n",
       "Chennai Super Kings             6\n",
       "Mumbai Indians                  6\n",
       "Sunrisers Hyderabad             6\n",
       "Rajasthan Royals                5\n",
       "Kolkata Knight Riders           5\n",
       "Royal Challengers Bangalore     4\n",
       "Rising Pune Supergiants         3\n",
       "Punjab Kings                    3\n",
       "Name: toss_winner, dtype: int64"
      ]
     },
     "execution_count": 38,
     "metadata": {},
     "output_type": "execute_result"
    }
   ],
   "source": [
    "df1[df1['winner']=='Delhi Capitals']['toss_winner'].value_counts()"
   ]
  },
  {
   "cell_type": "code",
   "execution_count": 39,
   "id": "5b3243bd",
   "metadata": {},
   "outputs": [
    {
     "name": "stdout",
     "output_type": "stream",
     "text": [
      "Delhi Capitals's percentage of winning the game after winning the toss is 53.65853658536586\n"
     ]
    }
   ],
   "source": [
    "toss_win_percent(44,82,'Delhi Capitals')"
   ]
  },
  {
   "cell_type": "code",
   "execution_count": 40,
   "id": "8c3dd643",
   "metadata": {},
   "outputs": [
    {
     "data": {
      "text/plain": [
       "Kolkata Knight Riders          55\n",
       "Sunrisers Hyderabad            10\n",
       "Punjab Kings                    8\n",
       "Delhi Capitals                  6\n",
       "Rajasthan Royals                6\n",
       "Royal Challengers Bangalore     4\n",
       "Chennai Super Kings             4\n",
       "Mumbai Indians                  3\n",
       "Rising Pune Supergiants         1\n",
       "Name: toss_winner, dtype: int64"
      ]
     },
     "execution_count": 40,
     "metadata": {},
     "output_type": "execute_result"
    }
   ],
   "source": [
    "df1[df1['winner']=='Kolkata Knight Riders']['toss_winner'].value_counts()"
   ]
  },
  {
   "cell_type": "code",
   "execution_count": 41,
   "id": "85058561",
   "metadata": {},
   "outputs": [
    {
     "name": "stdout",
     "output_type": "stream",
     "text": [
      "Kolkata Knight Riders's percentage of winning the game after winning the toss is 56.70103092783505\n"
     ]
    }
   ],
   "source": [
    "toss_win_percent(55,97,'Kolkata Knight Riders')"
   ]
  },
  {
   "cell_type": "code",
   "execution_count": 42,
   "id": "9ad8b59a",
   "metadata": {},
   "outputs": [
    {
     "data": {
      "text/plain": [
       "Sunrisers Hyderabad            47\n",
       "Punjab Kings                   10\n",
       "Royal Challengers Bangalore     9\n",
       "Delhi Capitals                  6\n",
       "Kolkata Knight Riders           6\n",
       "Rajasthan Royals                4\n",
       "Mumbai Indians                  4\n",
       "Chennai Super Kings             3\n",
       "Rising Pune Supergiants         2\n",
       "Kochi Tuskers Kerala            1\n",
       "Name: toss_winner, dtype: int64"
      ]
     },
     "execution_count": 42,
     "metadata": {},
     "output_type": "execute_result"
    }
   ],
   "source": [
    "df1[df1['winner']=='Sunrisers Hyderabad']['toss_winner'].value_counts()"
   ]
  },
  {
   "cell_type": "code",
   "execution_count": 43,
   "id": "75b5c00e",
   "metadata": {},
   "outputs": [
    {
     "name": "stdout",
     "output_type": "stream",
     "text": [
      "Sunrisers Hyderabad's percentage of winning the game after winning the toss is 51.08695652173913\n"
     ]
    }
   ],
   "source": [
    "toss_win_percent(47,92,'Sunrisers Hyderabad')"
   ]
  },
  {
   "cell_type": "code",
   "execution_count": 44,
   "id": "5926b3cc",
   "metadata": {},
   "outputs": [
    {
     "data": {
      "text/plain": [
       "Royal Challengers Bangalore    40\n",
       "Sunrisers Hyderabad             8\n",
       "Punjab Kings                    7\n",
       "Mumbai Indians                  6\n",
       "Chennai Super Kings             5\n",
       "Delhi Capitals                  5\n",
       "Rising Pune Supergiants         5\n",
       "Rajasthan Royals                4\n",
       "Kolkata Knight Riders           3\n",
       "Gujarat Lions                   2\n",
       "Kochi Tuskers Kerala            2\n",
       "Name: toss_winner, dtype: int64"
      ]
     },
     "execution_count": 44,
     "metadata": {},
     "output_type": "execute_result"
    }
   ],
   "source": [
    "df1[df1['winner']=='Royal Challengers Bangalore']['toss_winner'].value_counts()"
   ]
  },
  {
   "cell_type": "code",
   "execution_count": 45,
   "id": "b0afd061",
   "metadata": {},
   "outputs": [
    {
     "name": "stdout",
     "output_type": "stream",
     "text": [
      "Royal Challengers Bangalore's percentage of winning the game after winning the toss is 45.97701149425287\n"
     ]
    }
   ],
   "source": [
    "toss_win_percent(40,87,'Royal Challengers Bangalore')"
   ]
  },
  {
   "cell_type": "code",
   "execution_count": 46,
   "id": "b449bc5e",
   "metadata": {},
   "outputs": [
    {
     "data": {
      "text/plain": [
       "Punjab Kings                   33\n",
       "Delhi Capitals                  9\n",
       "Mumbai Indians                  9\n",
       "Royal Challengers Bangalore     8\n",
       "Kolkata Knight Riders           6\n",
       "Rajasthan Royals                5\n",
       "Sunrisers Hyderabad             4\n",
       "Chennai Super Kings             4\n",
       "Gujarat Lions                   2\n",
       "Rising Pune Supergiants         2\n",
       "Name: toss_winner, dtype: int64"
      ]
     },
     "execution_count": 46,
     "metadata": {},
     "output_type": "execute_result"
    }
   ],
   "source": [
    "df1[df1['winner']=='Punjab Kings']['toss_winner'].value_counts()"
   ]
  },
  {
   "cell_type": "code",
   "execution_count": 47,
   "id": "1526b99d",
   "metadata": {},
   "outputs": [
    {
     "name": "stdout",
     "output_type": "stream",
     "text": [
      "Punjab Kings's percentage of winning the game after winning the toss is 40.243902439024396\n"
     ]
    }
   ],
   "source": [
    "toss_win_percent(33,82,'Punjab Kings')"
   ]
  },
  {
   "cell_type": "code",
   "execution_count": 48,
   "id": "c689f9dc",
   "metadata": {},
   "outputs": [
    {
     "data": {
      "text/plain": [
       "Rajasthan Royals               43\n",
       "Delhi Capitals                  7\n",
       "Sunrisers Hyderabad             6\n",
       "Punjab Kings                    6\n",
       "Chennai Super Kings             5\n",
       "Mumbai Indians                  4\n",
       "Royal Challengers Bangalore     3\n",
       "Kolkata Knight Riders           3\n",
       "Rising Pune Supergiants         2\n",
       "Name: toss_winner, dtype: int64"
      ]
     },
     "execution_count": 48,
     "metadata": {},
     "output_type": "execute_result"
    }
   ],
   "source": [
    "df1[df1['winner']=='Rajasthan Royals']['toss_winner'].value_counts()"
   ]
  },
  {
   "cell_type": "code",
   "execution_count": 49,
   "id": "893940b7",
   "metadata": {},
   "outputs": [
    {
     "name": "stdout",
     "output_type": "stream",
     "text": [
      "Rajasthan Royals's percentage of winning the game after winning the toss is 54.43037974683544\n"
     ]
    }
   ],
   "source": [
    "toss_win_percent(43,79,'Rajasthan Royals')"
   ]
  },
  {
   "cell_type": "code",
   "execution_count": 50,
   "id": "82a603c3",
   "metadata": {},
   "outputs": [
    {
     "data": {
      "text/plain": [
       "Rising Pune Supergiants        11\n",
       "Mumbai Indians                  4\n",
       "Punjab Kings                    3\n",
       "Royal Challengers Bangalore     2\n",
       "Sunrisers Hyderabad             2\n",
       "Delhi Capitals                  1\n",
       "Chennai Super Kings             1\n",
       "Kochi Tuskers Kerala            1\n",
       "Rajasthan Royals                1\n",
       "Kolkata Knight Riders           1\n",
       "Name: toss_winner, dtype: int64"
      ]
     },
     "execution_count": 50,
     "metadata": {},
     "output_type": "execute_result"
    }
   ],
   "source": [
    "df1[df1['winner']=='Rising Pune Supergiants']['toss_winner'].value_counts()"
   ]
  },
  {
   "cell_type": "code",
   "execution_count": 51,
   "id": "13373533",
   "metadata": {},
   "outputs": [
    {
     "name": "stdout",
     "output_type": "stream",
     "text": [
      "Rising Pune Supergiants's percentage of winning the game after winning the toss is 54.43037974683544\n"
     ]
    }
   ],
   "source": [
    "toss_win_percent(43,79,'Rising Pune Supergiants')"
   ]
  },
  {
   "cell_type": "code",
   "execution_count": 52,
   "id": "ecfc93d9",
   "metadata": {},
   "outputs": [
    {
     "data": {
      "text/plain": [
       "Gujarat Lions                  10\n",
       "Royal Challengers Bangalore     1\n",
       "Rising Pune Supergiants         1\n",
       "Delhi Capitals                  1\n",
       "Name: toss_winner, dtype: int64"
      ]
     },
     "execution_count": 52,
     "metadata": {},
     "output_type": "execute_result"
    }
   ],
   "source": [
    "df1[df1['winner']=='Gujarat Lions']['toss_winner'].value_counts()"
   ]
  },
  {
   "cell_type": "code",
   "execution_count": 53,
   "id": "69dc73ba",
   "metadata": {},
   "outputs": [
    {
     "name": "stdout",
     "output_type": "stream",
     "text": [
      "Gujarat Lions's percentage of winning the game after winning the toss is 76.92307692307693\n"
     ]
    }
   ],
   "source": [
    "toss_win_percent(10,13,'Gujarat Lions')"
   ]
  },
  {
   "cell_type": "code",
   "execution_count": 54,
   "id": "278c7971",
   "metadata": {},
   "outputs": [
    {
     "data": {
      "text/plain": [
       "Kochi Tuskers Kerala     4\n",
       "Kolkata Knight Riders    2\n",
       "Name: toss_winner, dtype: int64"
      ]
     },
     "execution_count": 54,
     "metadata": {},
     "output_type": "execute_result"
    }
   ],
   "source": [
    "df1[df1['winner']=='Kochi Tuskers Kerala']['toss_winner'].value_counts()"
   ]
  },
  {
   "cell_type": "code",
   "execution_count": 55,
   "id": "d87eafd7",
   "metadata": {},
   "outputs": [
    {
     "name": "stdout",
     "output_type": "stream",
     "text": [
      "Kochi Tuskers Kerala's percentage of winning the game after winning the toss is 66.66666666666666\n"
     ]
    }
   ],
   "source": [
    "toss_win_percent(4,6,'Kochi Tuskers Kerala')"
   ]
  },
  {
   "cell_type": "markdown",
   "id": "108244b6",
   "metadata": {},
   "source": [
    "#### As per the the figures above the toss plays a 50-50 role in the game most of the teams who won the toss won half of their matches whereas they lost the rest of the matches , whereas, Gujrat Lions was the team wh had the best winning percentage of  around 77%"
   ]
  },
  {
   "cell_type": "code",
   "execution_count": 56,
   "id": "05d39244",
   "metadata": {},
   "outputs": [
    {
     "data": {
      "text/plain": [
       "Eden Gardens                                            77\n",
       "Feroz Shah Kotla                                        72\n",
       "Wankhede Stadium                                        72\n",
       "Rajiv Gandhi International Stadium, Uppal               63\n",
       "M Chinnaswamy Stadium                                   62\n",
       "MA Chidambaram Stadium, Chepauk                         56\n",
       "Sawai Mansingh Stadium                                  47\n",
       "Punjab Cricket Association Stadium, Mohali              35\n",
       "Sheikh Zayed Stadium                                    27\n",
       "Dubai International Cricket Stadium                     23\n",
       "Maharashtra Cricket Association Stadium                 21\n",
       "Punjab Cricket Association IS Bindra Stadium, Mohali    21\n",
       "Subrata Roy Sahara Stadium                              17\n",
       "Dr DY Patil Sports Academy                              17\n",
       "Kingsmead                                               15\n",
       "M.Chinnaswamy Stadium                                   14\n",
       "Dr. Y.S. Rajasekhara Reddy ACA-VDCA Cricket Stadium     13\n",
       "Sharjah Cricket Stadium                                 12\n",
       "SuperSport Park                                         12\n",
       "Brabourne Stadium                                       11\n",
       "Sardar Patel Stadium, Motera                            11\n",
       "Himachal Pradesh Cricket Association Stadium             9\n",
       "Holkar Cricket Stadium                                   9\n",
       "Saurashtra Cricket Association Stadium                   9\n",
       "New Wanderers Stadium                                    8\n",
       "JSCA International Stadium Complex                       7\n",
       "Barabati Stadium                                         7\n",
       "St George's Park                                         7\n",
       "Shaheed Veer Narayan Singh International Stadium         6\n",
       "Newlands                                                 6\n",
       "Nehru Stadium                                            5\n",
       "Green Park                                               4\n",
       "Vidarbha Cricket Association Stadium, Jamtha             3\n",
       "De Beers Diamond Oval                                    3\n",
       "Buffalo Park                                             3\n",
       "OUTsurance Oval                                          2\n",
       "Name: venue, dtype: int64"
      ]
     },
     "execution_count": 56,
     "metadata": {},
     "output_type": "execute_result"
    }
   ],
   "source": [
    "df1['venue'].value_counts()"
   ]
  },
  {
   "cell_type": "code",
   "execution_count": 57,
   "id": "ea4124de",
   "metadata": {},
   "outputs": [
    {
     "data": {
      "text/plain": [
       "{'Eden Gardens': 77,\n",
       " 'Feroz Shah Kotla': 72,\n",
       " 'Wankhede Stadium': 72,\n",
       " 'Rajiv Gandhi International Stadium, Uppal': 63,\n",
       " 'M Chinnaswamy Stadium': 62,\n",
       " 'MA Chidambaram Stadium, Chepauk': 56,\n",
       " 'Sawai Mansingh Stadium': 47,\n",
       " 'Punjab Cricket Association Stadium, Mohali': 35}"
      ]
     },
     "execution_count": 57,
     "metadata": {},
     "output_type": "execute_result"
    }
   ],
   "source": [
    "popular_stadiums = dict(df1['venue'].value_counts().head(8))\n",
    "popular_stadiums"
   ]
  },
  {
   "cell_type": "code",
   "execution_count": 58,
   "id": "62715007",
   "metadata": {},
   "outputs": [
    {
     "name": "stderr",
     "output_type": "stream",
     "text": [
      "<ipython-input-58-cccfb875cf82>:20: UserWarning:\n",
      "\n",
      "This figure includes Axes that are not compatible with tight_layout, so results might be incorrect.\n",
      "\n"
     ]
    },
    {
     "data": {
      "image/png": "[encoded data removed]",
      "text/plain": [
       "<Figure size 1440x648 with 1 Axes>"
      ]
     },
     "metadata": {
      "needs_background": "light"
     },
     "output_type": "display_data"
    }
   ],
   "source": [
    "fig = plt.figure(figsize = (20,9))\n",
    "\n",
    "keys_stadium = popular_stadiums.keys()\n",
    "values_stadium = popular_stadiums.values()\n",
    "\n",
    "axes2= fig.add_axes([0,0,1,1])\n",
    "axes2.bar(keys_stadium,values_stadium,width = 0.4,color = 'maroon')\n",
    "axes2.set_title('Popular Stadiums for IPL')\n",
    "axes2.set_xlabel('Stadiums')\n",
    "axes2.set_ylabel('Count')\n",
    "\n",
    "\n",
    "for s in axes2.patches:\n",
    "    axes2.annotate(format(s.get_height(), '.1f'), \n",
    "                   (s.get_x() + s.get_width() / 2., s.get_height()), \n",
    "                   ha = 'center', va = 'center', \n",
    "                   xytext = (0, 9), \n",
    "                   textcoords = 'offset points')\n",
    "    \n",
    "fig.tight_layout()"
   ]
  },
  {
   "cell_type": "markdown",
   "id": "919e2676",
   "metadata": {},
   "source": [
    "### Eden Gardens has played host for the most number of games till date."
   ]
  },
  {
   "cell_type": "code",
   "execution_count": 59,
   "id": "dfefd985",
   "metadata": {},
   "outputs": [
    {
     "data": {
      "text/plain": [
       "Kolkata Knight Riders          45\n",
       "Mumbai Indians                 10\n",
       "Chennai Super Kings             5\n",
       "Royal Challengers Bangalore     4\n",
       "Punjab Kings                    3\n",
       "Gujarat Lions                   2\n",
       "Rajasthan Royals                2\n",
       "Delhi Capitals                  2\n",
       "Sunrisers Hyderabad             2\n",
       "Kochi Tuskers Kerala            1\n",
       "Rising Pune Supergiants         1\n",
       "Name: winner, dtype: int64"
      ]
     },
     "execution_count": 59,
     "metadata": {},
     "output_type": "execute_result"
    }
   ],
   "source": [
    "df1[df1['venue']== 'Eden Gardens']['winner'].value_counts()"
   ]
  },
  {
   "cell_type": "markdown",
   "id": "e1e027da",
   "metadata": {},
   "source": [
    "#### Eden Gardens has been the home ground for Kolkata Knight Riders and the venue has been lucky for them so far"
   ]
  },
  {
   "cell_type": "code",
   "execution_count": 60,
   "id": "bb31c91d",
   "metadata": {},
   "outputs": [
    {
     "data": {
      "text/plain": [
       "{'Mumbai Indians': 70,\n",
       " 'Kolkata Knight Riders': 59,\n",
       " 'Punjab Kings': 59,\n",
       " 'Sunrisers Hyderabad': 57,\n",
       " 'Royal Challengers Bangalore': 56,\n",
       " 'Delhi Capitals': 50,\n",
       " 'Chennai Super Kings': 50,\n",
       " 'Rajasthan Royals': 43,\n",
       " 'Rising Pune Supergiants': 16,\n",
       " 'Gujarat Lions': 11,\n",
       " 'Kochi Tuskers Kerala': 6}"
      ]
     },
     "execution_count": 60,
     "metadata": {},
     "output_type": "execute_result"
    }
   ],
   "source": [
    "chase = dict(df1[df1['toss_decision']=='field']['winner'].value_counts())\n",
    "chase"
   ]
  },
  {
   "cell_type": "code",
   "execution_count": 61,
   "id": "68cd1db5",
   "metadata": {},
   "outputs": [
    {
     "data": {
      "text/plain": [
       "{'Chennai Super Kings': 53,\n",
       " 'Mumbai Indians': 48,\n",
       " 'Kolkata Knight Riders': 38,\n",
       " 'Rajasthan Royals': 36,\n",
       " 'Sunrisers Hyderabad': 35,\n",
       " 'Delhi Capitals': 32,\n",
       " 'Royal Challengers Bangalore': 31,\n",
       " 'Punjab Kings': 23,\n",
       " 'Rising Pune Supergiants': 11,\n",
       " 'Gujarat Lions': 2}"
      ]
     },
     "execution_count": 61,
     "metadata": {},
     "output_type": "execute_result"
    }
   ],
   "source": [
    "bat = dict(df1[df1['toss_decision']=='bat']['winner'].value_counts())\n",
    "bat"
   ]
  },
  {
   "cell_type": "code",
   "execution_count": 62,
   "id": "010d0aec",
   "metadata": {},
   "outputs": [
    {
     "data": {
      "text/plain": [
       "<seaborn.axisgrid.FacetGrid at 0x1d09068e3d0>"
      ]
     },
     "execution_count": 62,
     "metadata": {},
     "output_type": "execute_result"
    },
    {
     "data": {
      "image/png": "[encoded data removed]",
      "text/plain": [
       "<Figure size 722.75x864 with 11 Axes>"
      ]
     },
     "metadata": {
      "needs_background": "light"
     },
     "output_type": "display_data"
    }
   ],
   "source": [
    "g = sns.FacetGrid(data=df1,col='winner',hue = 'toss_decision',col_wrap = 3,palette='husl')\n",
    "g.map(plt.hist,'toss_decision')\n",
    "g.add_legend()"
   ]
  },
  {
   "cell_type": "markdown",
   "id": "e03e539f",
   "metadata": {},
   "source": [
    "#### Chennai Super Kings,Rajasthan Royals perform their best when they bat first"
   ]
  },
  {
   "cell_type": "markdown",
   "id": "ee3c1cf0",
   "metadata": {},
   "source": [
    "#### Punjab Kings, Sunrisers Hyderabad record the most wins when they are chasing."
   ]
  },
  {
   "cell_type": "markdown",
   "id": "3817b14e",
   "metadata": {},
   "source": [
    "#### Whereas, Mumbai Indians and Kolkata Knight Riders are a versatile team, they perfom well no matter if they chase or bat first, but as per the stats they should prefer chasing the target."
   ]
  },
  {
   "cell_type": "code",
   "execution_count": 63,
   "id": "f8e1cb83",
   "metadata": {},
   "outputs": [
    {
     "data": {
      "text/plain": [
       "<seaborn.axisgrid.FacetGrid at 0x1d090696d90>"
      ]
     },
     "execution_count": 63,
     "metadata": {},
     "output_type": "execute_result"
    },
    {
     "data": {
      "image/png": "[encoded data removed]",
      "text/plain": [
       "<Figure size 938.75x5184 with 36 Axes>"
      ]
     },
     "metadata": {
      "needs_background": "light"
     },
     "output_type": "display_data"
    }
   ],
   "source": [
    "h = sns.FacetGrid(data=df1,col='venue',hue = 'toss_decision',col_wrap = 2,palette='husl',height = 4,aspect = 1.5)\n",
    "h.map(plt.hist,'winner')\n",
    "h.add_legend()"
   ]
  },
  {
   "cell_type": "markdown",
   "id": "f2d05bc9",
   "metadata": {},
   "source": [
    "#### M Chinnaswamy, PCA Stadium and Sawai Mansingh Stadium record more wins for the team which is chasing."
   ]
  },
  {
   "cell_type": "markdown",
   "id": "97b80804",
   "metadata": {},
   "source": [
    "#### While Newlands, Supersport Park, Wanderers all these stadiums in South Africs record more wins for the team who bats first"
   ]
  },
  {
   "cell_type": "code",
   "execution_count": 74,
   "id": "4f03299d",
   "metadata": {},
   "outputs": [],
   "source": [
    "toss_eden = df1.loc[df1['venue']=='Eden Gardens',['toss_winner','toss_decision','winner']]"
   ]
  },
  {
   "cell_type": "code",
   "execution_count": 87,
   "id": "612886e3",
   "metadata": {},
   "outputs": [
    {
     "data": {
      "text/html": [
       "<div>\n",
       "<style scoped>\n",
       "    .dataframe tbody tr th:only-of-type {\n",
       "        vertical-align: middle;\n",
       "    }\n",
       "\n",
       "    .dataframe tbody tr th {\n",
       "        vertical-align: top;\n",
       "    }\n",
       "\n",
       "    .dataframe thead th {\n",
       "        text-align: right;\n",
       "    }\n",
       "</style>\n",
       "<table border=\"1\" class=\"dataframe\">\n",
       "  <thead>\n",
       "    <tr style=\"text-align: right;\">\n",
       "      <th></th>\n",
       "      <th>id</th>\n",
       "      <th>city</th>\n",
       "      <th>date</th>\n",
       "      <th>player_of_match</th>\n",
       "      <th>venue</th>\n",
       "      <th>neutral_venue</th>\n",
       "      <th>team1</th>\n",
       "      <th>team2</th>\n",
       "      <th>toss_winner</th>\n",
       "      <th>toss_decision</th>\n",
       "      <th>winner</th>\n",
       "      <th>result</th>\n",
       "      <th>result_margin</th>\n",
       "      <th>eliminator</th>\n",
       "      <th>umpire1</th>\n",
       "      <th>umpire2</th>\n",
       "      <th>toss_decision_field</th>\n",
       "    </tr>\n",
       "  </thead>\n",
       "  <tbody>\n",
       "    <tr>\n",
       "      <th>0</th>\n",
       "      <td>335982</td>\n",
       "      <td>Bangalore</td>\n",
       "      <td>2008-04-18</td>\n",
       "      <td>BB McCullum</td>\n",
       "      <td>M Chinnaswamy Stadium</td>\n",
       "      <td>0</td>\n",
       "      <td>Royal Challengers Bangalore</td>\n",
       "      <td>Kolkata Knight Riders</td>\n",
       "      <td>Royal Challengers Bangalore</td>\n",
       "      <td>field</td>\n",
       "      <td>Kolkata Knight Riders</td>\n",
       "      <td>runs</td>\n",
       "      <td>140.0</td>\n",
       "      <td>N</td>\n",
       "      <td>Asad Rauf</td>\n",
       "      <td>RE Koertzen</td>\n",
       "      <td>1</td>\n",
       "    </tr>\n",
       "    <tr>\n",
       "      <th>1</th>\n",
       "      <td>335983</td>\n",
       "      <td>Chandigarh</td>\n",
       "      <td>2008-04-19</td>\n",
       "      <td>MEK Hussey</td>\n",
       "      <td>Punjab Cricket Association Stadium, Mohali</td>\n",
       "      <td>0</td>\n",
       "      <td>Punjab Kings</td>\n",
       "      <td>Chennai Super Kings</td>\n",
       "      <td>Chennai Super Kings</td>\n",
       "      <td>bat</td>\n",
       "      <td>Chennai Super Kings</td>\n",
       "      <td>runs</td>\n",
       "      <td>33.0</td>\n",
       "      <td>N</td>\n",
       "      <td>MR Benson</td>\n",
       "      <td>SL Shastri</td>\n",
       "      <td>0</td>\n",
       "    </tr>\n",
       "    <tr>\n",
       "      <th>2</th>\n",
       "      <td>335984</td>\n",
       "      <td>Delhi</td>\n",
       "      <td>2008-04-19</td>\n",
       "      <td>MF Maharoof</td>\n",
       "      <td>Feroz Shah Kotla</td>\n",
       "      <td>0</td>\n",
       "      <td>Delhi Capitals</td>\n",
       "      <td>Rajasthan Royals</td>\n",
       "      <td>Rajasthan Royals</td>\n",
       "      <td>bat</td>\n",
       "      <td>Delhi Capitals</td>\n",
       "      <td>wickets</td>\n",
       "      <td>9.0</td>\n",
       "      <td>N</td>\n",
       "      <td>Aleem Dar</td>\n",
       "      <td>GA Pratapkumar</td>\n",
       "      <td>0</td>\n",
       "    </tr>\n",
       "    <tr>\n",
       "      <th>3</th>\n",
       "      <td>335985</td>\n",
       "      <td>Mumbai</td>\n",
       "      <td>2008-04-20</td>\n",
       "      <td>MV Boucher</td>\n",
       "      <td>Wankhede Stadium</td>\n",
       "      <td>0</td>\n",
       "      <td>Mumbai Indians</td>\n",
       "      <td>Royal Challengers Bangalore</td>\n",
       "      <td>Mumbai Indians</td>\n",
       "      <td>bat</td>\n",
       "      <td>Royal Challengers Bangalore</td>\n",
       "      <td>wickets</td>\n",
       "      <td>5.0</td>\n",
       "      <td>N</td>\n",
       "      <td>SJ Davis</td>\n",
       "      <td>DJ Harper</td>\n",
       "      <td>0</td>\n",
       "    </tr>\n",
       "    <tr>\n",
       "      <th>4</th>\n",
       "      <td>335986</td>\n",
       "      <td>Kolkata</td>\n",
       "      <td>2008-04-20</td>\n",
       "      <td>DJ Hussey</td>\n",
       "      <td>Eden Gardens</td>\n",
       "      <td>0</td>\n",
       "      <td>Kolkata Knight Riders</td>\n",
       "      <td>Sunrisers Hyderabad</td>\n",
       "      <td>Sunrisers Hyderabad</td>\n",
       "      <td>bat</td>\n",
       "      <td>Kolkata Knight Riders</td>\n",
       "      <td>wickets</td>\n",
       "      <td>5.0</td>\n",
       "      <td>N</td>\n",
       "      <td>BF Bowden</td>\n",
       "      <td>K Hariharan</td>\n",
       "      <td>0</td>\n",
       "    </tr>\n",
       "    <tr>\n",
       "      <th>...</th>\n",
       "      <td>...</td>\n",
       "      <td>...</td>\n",
       "      <td>...</td>\n",
       "      <td>...</td>\n",
       "      <td>...</td>\n",
       "      <td>...</td>\n",
       "      <td>...</td>\n",
       "      <td>...</td>\n",
       "      <td>...</td>\n",
       "      <td>...</td>\n",
       "      <td>...</td>\n",
       "      <td>...</td>\n",
       "      <td>...</td>\n",
       "      <td>...</td>\n",
       "      <td>...</td>\n",
       "      <td>...</td>\n",
       "      <td>...</td>\n",
       "    </tr>\n",
       "    <tr>\n",
       "      <th>810</th>\n",
       "      <td>1216546</td>\n",
       "      <td>Dubai</td>\n",
       "      <td>2020-10-20</td>\n",
       "      <td>S Dhawan</td>\n",
       "      <td>Dubai International Cricket Stadium</td>\n",
       "      <td>0</td>\n",
       "      <td>Delhi Capitals</td>\n",
       "      <td>Punjab Kings</td>\n",
       "      <td>Delhi Capitals</td>\n",
       "      <td>bat</td>\n",
       "      <td>Punjab Kings</td>\n",
       "      <td>wickets</td>\n",
       "      <td>5.0</td>\n",
       "      <td>N</td>\n",
       "      <td>C Shamshuddin</td>\n",
       "      <td>RK Illingworth</td>\n",
       "      <td>0</td>\n",
       "    </tr>\n",
       "    <tr>\n",
       "      <th>812</th>\n",
       "      <td>1237177</td>\n",
       "      <td>Dubai</td>\n",
       "      <td>2020-11-05</td>\n",
       "      <td>JJ Bumrah</td>\n",
       "      <td>Dubai International Cricket Stadium</td>\n",
       "      <td>0</td>\n",
       "      <td>Mumbai Indians</td>\n",
       "      <td>Delhi Capitals</td>\n",
       "      <td>Delhi Capitals</td>\n",
       "      <td>field</td>\n",
       "      <td>Mumbai Indians</td>\n",
       "      <td>runs</td>\n",
       "      <td>57.0</td>\n",
       "      <td>N</td>\n",
       "      <td>CB Gaffaney</td>\n",
       "      <td>Nitin Menon</td>\n",
       "      <td>1</td>\n",
       "    </tr>\n",
       "    <tr>\n",
       "      <th>813</th>\n",
       "      <td>1237178</td>\n",
       "      <td>Abu Dhabi</td>\n",
       "      <td>2020-11-06</td>\n",
       "      <td>KS Williamson</td>\n",
       "      <td>Sheikh Zayed Stadium</td>\n",
       "      <td>0</td>\n",
       "      <td>Royal Challengers Bangalore</td>\n",
       "      <td>Sunrisers Hyderabad</td>\n",
       "      <td>Sunrisers Hyderabad</td>\n",
       "      <td>field</td>\n",
       "      <td>Sunrisers Hyderabad</td>\n",
       "      <td>wickets</td>\n",
       "      <td>6.0</td>\n",
       "      <td>N</td>\n",
       "      <td>PR Reiffel</td>\n",
       "      <td>S Ravi</td>\n",
       "      <td>1</td>\n",
       "    </tr>\n",
       "    <tr>\n",
       "      <th>814</th>\n",
       "      <td>1237180</td>\n",
       "      <td>Abu Dhabi</td>\n",
       "      <td>2020-11-08</td>\n",
       "      <td>MP Stoinis</td>\n",
       "      <td>Sheikh Zayed Stadium</td>\n",
       "      <td>0</td>\n",
       "      <td>Delhi Capitals</td>\n",
       "      <td>Sunrisers Hyderabad</td>\n",
       "      <td>Delhi Capitals</td>\n",
       "      <td>bat</td>\n",
       "      <td>Delhi Capitals</td>\n",
       "      <td>runs</td>\n",
       "      <td>17.0</td>\n",
       "      <td>N</td>\n",
       "      <td>PR Reiffel</td>\n",
       "      <td>S Ravi</td>\n",
       "      <td>0</td>\n",
       "    </tr>\n",
       "    <tr>\n",
       "      <th>815</th>\n",
       "      <td>1237181</td>\n",
       "      <td>Dubai</td>\n",
       "      <td>2020-11-10</td>\n",
       "      <td>TA Boult</td>\n",
       "      <td>Dubai International Cricket Stadium</td>\n",
       "      <td>0</td>\n",
       "      <td>Delhi Capitals</td>\n",
       "      <td>Mumbai Indians</td>\n",
       "      <td>Delhi Capitals</td>\n",
       "      <td>bat</td>\n",
       "      <td>Mumbai Indians</td>\n",
       "      <td>wickets</td>\n",
       "      <td>5.0</td>\n",
       "      <td>N</td>\n",
       "      <td>CB Gaffaney</td>\n",
       "      <td>Nitin Menon</td>\n",
       "      <td>0</td>\n",
       "    </tr>\n",
       "  </tbody>\n",
       "</table>\n",
       "<p>786 rows × 17 columns</p>\n",
       "</div>"
      ],
      "text/plain": [
       "          id        city        date player_of_match  \\\n",
       "0     335982   Bangalore  2008-04-18     BB McCullum   \n",
       "1     335983  Chandigarh  2008-04-19      MEK Hussey   \n",
       "2     335984       Delhi  2008-04-19     MF Maharoof   \n",
       "3     335985      Mumbai  2008-04-20      MV Boucher   \n",
       "4     335986     Kolkata  2008-04-20       DJ Hussey   \n",
       "..       ...         ...         ...             ...   \n",
       "810  1216546       Dubai  2020-10-20        S Dhawan   \n",
       "812  1237177       Dubai  2020-11-05       JJ Bumrah   \n",
       "813  1237178   Abu Dhabi  2020-11-06   KS Williamson   \n",
       "814  1237180   Abu Dhabi  2020-11-08      MP Stoinis   \n",
       "815  1237181       Dubai  2020-11-10        TA Boult   \n",
       "\n",
       "                                          venue  neutral_venue  \\\n",
       "0                         M Chinnaswamy Stadium              0   \n",
       "1    Punjab Cricket Association Stadium, Mohali              0   \n",
       "2                              Feroz Shah Kotla              0   \n",
       "3                              Wankhede Stadium              0   \n",
       "4                                  Eden Gardens              0   \n",
       "..                                          ...            ...   \n",
       "810         Dubai International Cricket Stadium              0   \n",
       "812         Dubai International Cricket Stadium              0   \n",
       "813                        Sheikh Zayed Stadium              0   \n",
       "814                        Sheikh Zayed Stadium              0   \n",
       "815         Dubai International Cricket Stadium              0   \n",
       "\n",
       "                           team1                        team2  \\\n",
       "0    Royal Challengers Bangalore        Kolkata Knight Riders   \n",
       "1                   Punjab Kings          Chennai Super Kings   \n",
       "2                 Delhi Capitals             Rajasthan Royals   \n",
       "3                 Mumbai Indians  Royal Challengers Bangalore   \n",
       "4          Kolkata Knight Riders          Sunrisers Hyderabad   \n",
       "..                           ...                          ...   \n",
       "810               Delhi Capitals                 Punjab Kings   \n",
       "812               Mumbai Indians               Delhi Capitals   \n",
       "813  Royal Challengers Bangalore          Sunrisers Hyderabad   \n",
       "814               Delhi Capitals          Sunrisers Hyderabad   \n",
       "815               Delhi Capitals               Mumbai Indians   \n",
       "\n",
       "                     toss_winner toss_decision                       winner  \\\n",
       "0    Royal Challengers Bangalore         field        Kolkata Knight Riders   \n",
       "1            Chennai Super Kings           bat          Chennai Super Kings   \n",
       "2               Rajasthan Royals           bat               Delhi Capitals   \n",
       "3                 Mumbai Indians           bat  Royal Challengers Bangalore   \n",
       "4            Sunrisers Hyderabad           bat        Kolkata Knight Riders   \n",
       "..                           ...           ...                          ...   \n",
       "810               Delhi Capitals           bat                 Punjab Kings   \n",
       "812               Delhi Capitals         field               Mumbai Indians   \n",
       "813          Sunrisers Hyderabad         field          Sunrisers Hyderabad   \n",
       "814               Delhi Capitals           bat               Delhi Capitals   \n",
       "815               Delhi Capitals           bat               Mumbai Indians   \n",
       "\n",
       "      result  result_margin eliminator        umpire1         umpire2  \\\n",
       "0       runs          140.0          N      Asad Rauf     RE Koertzen   \n",
       "1       runs           33.0          N      MR Benson      SL Shastri   \n",
       "2    wickets            9.0          N      Aleem Dar  GA Pratapkumar   \n",
       "3    wickets            5.0          N       SJ Davis       DJ Harper   \n",
       "4    wickets            5.0          N      BF Bowden     K Hariharan   \n",
       "..       ...            ...        ...            ...             ...   \n",
       "810  wickets            5.0          N  C Shamshuddin  RK Illingworth   \n",
       "812     runs           57.0          N    CB Gaffaney     Nitin Menon   \n",
       "813  wickets            6.0          N     PR Reiffel          S Ravi   \n",
       "814     runs           17.0          N     PR Reiffel          S Ravi   \n",
       "815  wickets            5.0          N    CB Gaffaney     Nitin Menon   \n",
       "\n",
       "     toss_decision_field  \n",
       "0                      1  \n",
       "1                      0  \n",
       "2                      0  \n",
       "3                      0  \n",
       "4                      0  \n",
       "..                   ...  \n",
       "810                    0  \n",
       "812                    1  \n",
       "813                    1  \n",
       "814                    0  \n",
       "815                    0  \n",
       "\n",
       "[786 rows x 17 columns]"
      ]
     },
     "execution_count": 87,
     "metadata": {},
     "output_type": "execute_result"
    }
   ],
   "source": [
    "df2 = pd.get_dummies(df1['toss_decision'])\n",
    "df2['toss_decision_bat'] = df2['bat']\n",
    "df2['toss_decision_field'] = df2['field']\n",
    "df2.drop(labels = ['bat','field','toss_decision_bat'],axis=1,inplace = True)\n",
    "df1=pd.concat([df1,df2],axis=1)\n",
    "df1"
   ]
  },
  {
   "cell_type": "markdown",
   "id": "f6d82d62",
   "metadata": {},
   "source": [
    "#### Now moving onto the Individual Performances"
   ]
  },
  {
   "cell_type": "code",
   "execution_count": 65,
   "id": "435e7059",
   "metadata": {},
   "outputs": [
    {
     "data": {
      "text/plain": [
       "{'CH Gayle': 22,\n",
       " 'AB de Villiers': 22,\n",
       " 'RG Sharma': 18,\n",
       " 'MS Dhoni': 17,\n",
       " 'DA Warner': 17}"
      ]
     },
     "execution_count": 65,
     "metadata": {},
     "output_type": "execute_result"
    }
   ],
   "source": [
    "man_of_the_match = dict(df1['player_of_match'].value_counts().head(5))\n",
    "man_of_the_match"
   ]
  },
  {
   "cell_type": "code",
   "execution_count": 66,
   "id": "53757d88",
   "metadata": {},
   "outputs": [
    {
     "name": "stderr",
     "output_type": "stream",
     "text": [
      "<ipython-input-66-7d1933988a52>:20: UserWarning:\n",
      "\n",
      "This figure includes Axes that are not compatible with tight_layout, so results might be incorrect.\n",
      "\n"
     ]
    },
    {
     "data": {
      "image/png": "[encoded data removed]",
      "text/plain": [
       "<Figure size 576x360 with 1 Axes>"
      ]
     },
     "metadata": {
      "needs_background": "light"
     },
     "output_type": "display_data"
    }
   ],
   "source": [
    "fig = plt.figure(figsize = (8,5))\n",
    "\n",
    "keys_players = man_of_the_match.keys()\n",
    "values_players = man_of_the_match.values()\n",
    "\n",
    "axes4= fig.add_axes([0,0,1,1])\n",
    "axes4.bar(keys_players,values_players,width = 0.3,color = 'gray')\n",
    "axes4.set_title('Man of the Match Awards')\n",
    "axes4.set_xlabel('Player Names')\n",
    "axes4.set_ylabel('Awards')\n",
    "\n",
    "\n",
    "for t in axes4.patches:\n",
    "    axes4.annotate(format(t.get_height(), '.1f'), \n",
    "                   (t.get_x() + t.get_width() / 2., t.get_height()), \n",
    "                   ha = 'center', va = 'center', \n",
    "                   xytext = (0, 9), \n",
    "                   textcoords = 'offset points')\n",
    "    \n",
    "fig.tight_layout()"
   ]
  },
  {
   "cell_type": "markdown",
   "id": "a74b9281",
   "metadata": {},
   "source": [
    "#### Chris Gayle and Ab DeVilliers have the most Man of the Match awards till date."
   ]
  },
  {
   "cell_type": "code",
   "execution_count": 67,
   "id": "8e6414b1",
   "metadata": {},
   "outputs": [
    {
     "data": {
      "text/plain": [
       "620    146.0\n",
       "560    144.0\n",
       "0      140.0\n",
       "497    138.0\n",
       "351    130.0\n",
       "706    118.0\n",
       "236    111.0\n",
       "55     105.0\n",
       "676    102.0\n",
       "123     98.0\n",
       "Name: result_margin, dtype: float64"
      ]
     },
     "execution_count": 67,
     "metadata": {},
     "output_type": "execute_result"
    }
   ],
   "source": [
    "margins = df1['result_margin'].sort_values(ascending = False).head(10)\n",
    "margins"
   ]
  },
  {
   "cell_type": "markdown",
   "id": "ae2d12e0",
   "metadata": {},
   "source": [
    "##### Biggest winning margin goes to Mumbai Indians when they defeated Delhi Capitals in a game at Shaikh Zayad International Stadium "
   ]
  },
  {
   "cell_type": "code",
   "execution_count": 68,
   "id": "0d5cf404",
   "metadata": {},
   "outputs": [
    {
     "data": {
      "text/plain": [
       "HDPK Dharmasena    75\n",
       "AK Chaudhary       52\n",
       "Asad Rauf          51\n",
       "S Ravi             37\n",
       "M Erasmus          36\n",
       "Name: umpire1, dtype: int64"
      ]
     },
     "execution_count": 68,
     "metadata": {},
     "output_type": "execute_result"
    }
   ],
   "source": [
    "df1['umpire1'].value_counts().head(5)"
   ]
  },
  {
   "cell_type": "code",
   "execution_count": 69,
   "id": "999b1ec0",
   "metadata": {},
   "outputs": [
    {
     "data": {
      "text/plain": [
       "S Ravi           76\n",
       "C Shamshuddin    60\n",
       "SJA Taufel       54\n",
       "CK Nandan        49\n",
       "RJ Tucker        40\n",
       "Name: umpire2, dtype: int64"
      ]
     },
     "execution_count": 69,
     "metadata": {},
     "output_type": "execute_result"
    }
   ],
   "source": [
    "df1['umpire2'].value_counts().head(5)"
   ]
  },
  {
   "cell_type": "markdown",
   "id": "4c587783",
   "metadata": {},
   "source": [
    "#### S Ravi and HDPK Dharmasena have officiated in most games in IPL."
   ]
  },
  {
   "cell_type": "markdown",
   "id": "5f136ba9",
   "metadata": {},
   "source": [
    "##### With Most number of winning games Mumbai Indians is the team which holds most number of Championships where as Chennai Super Kings is the team which has the most Championships after Mumbai."
   ]
  },
  {
   "cell_type": "code",
   "execution_count": null,
   "id": "059f45f4",
   "metadata": {},
   "outputs": [],
   "source": []
  }
 ],
 "metadata": {
  "kernelspec": {
   "display_name": "Python 3",
   "language": "python",
   "name": "python3"
  },
  "language_info": {
   "codemirror_mode": {
    "name": "ipython",
    "version": 3
   },
   "file_extension": ".py",
   "mimetype": "text/x-python",
   "name": "python",
   "nbconvert_exporter": "python",
   "pygments_lexer": "ipython3",
   "version": "3.9.4"
  }
 },
 "nbformat": 4,
 "nbformat_minor": 5
}
